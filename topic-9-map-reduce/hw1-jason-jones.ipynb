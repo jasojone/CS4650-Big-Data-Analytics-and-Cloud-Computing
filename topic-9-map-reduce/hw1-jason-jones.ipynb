{
 "cells": [
  {
   "cell_type": "code",
   "execution_count": 1,
   "metadata": {},
   "outputs": [
    {
     "name": "stdout",
     "output_type": "stream",
     "text": [
      "Overwriting hour-wind-temp.py\n"
     ]
    }
   ],
   "source": [
    "%%file hour-wind-temp.py\n",
    "import re\n",
    "import json\n",
    "\n",
    "from mrjob.job import MRJob\n",
    "\n",
    "QUALITY_RE = re.compile(r\"[01459]\")\n",
    "\n",
    "class HourlyWindDirTemp(MRJob):\n",
    "\n",
    "    def mapper(self, _, line):\n",
    "        val = line.strip()\n",
    "        (year, month, day, hour, wind_dir, temp, q) = (\n",
    "            val[15:19], val[19:21], val[21:23], val[23:25], val[60:63], val[87:92], val[92:93])\n",
    "        if (temp != \"+9999\" and re.match(QUALITY_RE, q)):\n",
    "            yield wind_dir, {\"low\": int(temp), \"high\": int(temp), \"count\": 1}\n",
    "\n",
    "    def reducer(self, key, values):\n",
    "        temps = [value[\"low\"] for value in values]\n",
    "        low = min(temps) if temps else None\n",
    "        high = max(temps) if temps else None\n",
    "        count = len(temps)\n",
    "        yield key, {\"low\": low, \"high\": high, \"count\": count}\n",
    "\n",
    "if __name__ == '__main__':\n",
    "    HourlyWindDirTemp.run()"
   ]
  },
  {
   "cell_type": "code",
   "execution_count": 2,
   "metadata": {},
   "outputs": [
    {
     "name": "stdout",
     "output_type": "stream",
     "text": [
      "\"020\"\t{\"low\":-272,\"high\":317,\"count\":582}\n",
      "\"050\"\t{\"low\":-322,\"high\":306,\"count\":1039}\n",
      "\"070\"\t{\"low\":-333,\"high\":278,\"count\":502}\n",
      "\"090\"\t{\"low\":-267,\"high\":272,\"count\":567}\n",
      "\"110\"\t{\"low\":-239,\"high\":278,\"count\":296}\n",
      "\"140\"\t{\"low\":-328,\"high\":278,\"count\":1005}\n",
      "\"160\"\t{\"low\":-239,\"high\":289,\"count\":647}\n",
      "\"180\"\t{\"low\":-250,\"high\":294,\"count\":879}\n",
      "\"200\"\t{\"low\":-183,\"high\":300,\"count\":688}\n",
      "\"230\"\t{\"low\":-228,\"high\":283,\"count\":1488}\n",
      "\"250\"\t{\"low\":-222,\"high\":311,\"count\":604}\n",
      "\"270\"\t{\"low\":-211,\"high\":278,\"count\":931}\n",
      "\"290\"\t{\"low\":-328,\"high\":306,\"count\":379}\n",
      "\"320\"\t{\"low\":-311,\"high\":306,\"count\":1152}\n",
      "\"340\"\t{\"low\":-300,\"high\":311,\"count\":427}\n",
      "\"360\"\t{\"low\":-267,\"high\":289,\"count\":888}\n",
      "\"999\"\t{\"low\":-294,\"high\":294,\"count\":1055}\n"
     ]
    },
    {
     "name": "stderr",
     "output_type": "stream",
     "text": [
      "No configs found; falling back on auto-configuration\n",
      "No configs specified for inline runner\n",
      "Creating temp directory C:\\Users\\Jason\\AppData\\Local\\Temp\\hour-wind-temp.Jason.20230228.213038.886365\n",
      "Running step 1 of 1...\n",
      "job output is in C:\\Users\\Jason\\AppData\\Local\\Temp\\hour-wind-temp.Jason.20230228.213038.886365\\output\n",
      "Streaming final output from C:\\Users\\Jason\\AppData\\Local\\Temp\\hour-wind-temp.Jason.20230228.213038.886365\\output...\n",
      "Removing temp directory C:\\Users\\Jason\\AppData\\Local\\Temp\\hour-wind-temp.Jason.20230228.213038.886365...\n"
     ]
    }
   ],
   "source": [
    "!python hour-wind-temp.py 1901 1902"
   ]
  }
 ],
 "metadata": {
  "kernelspec": {
   "display_name": "base",
   "language": "python",
   "name": "python3"
  },
  "language_info": {
   "codemirror_mode": {
    "name": "ipython",
    "version": 3
   },
   "file_extension": ".py",
   "mimetype": "text/x-python",
   "name": "python",
   "nbconvert_exporter": "python",
   "pygments_lexer": "ipython3",
   "version": "3.9.12"
  },
  "orig_nbformat": 4,
  "vscode": {
   "interpreter": {
    "hash": "085b65f6b25d70f5febde66f680838c2372ec123baa4fa212e68b443b3e0f4dd"
   }
  }
 },
 "nbformat": 4,
 "nbformat_minor": 2
}
