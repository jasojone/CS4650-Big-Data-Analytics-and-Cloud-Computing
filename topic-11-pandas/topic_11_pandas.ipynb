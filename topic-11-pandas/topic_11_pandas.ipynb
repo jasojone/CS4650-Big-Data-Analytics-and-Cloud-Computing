{
 "cells": [
  {
   "cell_type": "markdown",
   "id": "13401784",
   "metadata": {},
   "source": [
    "# Topic 11: Pandas\n",
    "\n",
    "We are starting a new module, _Analytics_.  Our first stop will be to explore some of the capabilities of the _Pandas_ package, which provides efficient storage and manipulations of vectors and arrays of data.  As we look to perform analytics on data, in many cases we use Pandas to hold that data.\n",
    "\n",
    "Feel free to download this lecture from Canvas.  This is a Jupyter Notebook, an ipynb file. Place this in one of your project directories.  In addition, there is a related zip file containing a few data files.  Download the zip as well, and extract the files into that same project directory.  Then activate that directory's environment and run Jupyter Notebook from there.  You can then run these examples live.  Feel free to experiment, either changing some of the cells, then rerunning them to see the changes, or by creating new cells and experimenting there.  One of the best ways to learn is by doing (I've heard that somewhere), so take some time and experiment.\n",
    "\n",
    "## Importing Packages\n",
    "\n",
    "When we create a new Jupyter notebook, one of the first things we would do is import the packages that we will be using.  In addition to importing Pandas, we frequently also import _numpy_ and _matplotlib_.  This lecture mostly focuses on Pandas, but we will touch briefly on these others.  Typically we would import the packages in the first cell of the notebook, as shown here:  (Be sure to run the cell, so that the imports will actually happen!)"
   ]
  },
  {
   "cell_type": "code",
   "execution_count": 17,
   "id": "5e76e654",
   "metadata": {},
   "outputs": [],
   "source": [
    "import pandas as pd\n",
    "import numpy as np\n",
    "import matplotlib.pyplot as plt"
   ]
  },
  {
   "cell_type": "markdown",
   "id": "ee9585de",
   "metadata": {},
   "source": [
    "When that cell is run, the notebook does not generate any output, but the packages are loaded and available to use.\n",
    "\n",
    "Note that the import of pandas also gave a new name, 'pd', for the package.  This is for our convenience, so we can use the abbreviation in our code.  Instead of saying 'pandas.Series(...)' we can say 'pd.Series(...)', and so on."
   ]
  },
  {
   "cell_type": "markdown",
   "id": "f9fb04f6",
   "metadata": {},
   "source": [
    "## Pandas Series\n",
    "\n",
    "Pandas contains two basic data structures which we will use a lot.  The first, which is the simplest, but not that frequently used, is a vector, which Pandas calls a 'Series'.\n",
    "\n",
    "We could use a Python array, but Python arrays are not very efficient.  They take more memory, using them is slower, and Python does not provide many of the useful methods that Pandas provides.  For this reason, we will prefer to use a Series.\n",
    "\n",
    "However, one of the ways to construct a Series is to first build an array of data in Python, then pass this to Pandas.  Pandas will convert the array to a Series, and from then on things run better.  Here is a simple example:"
   ]
  },
  {
   "cell_type": "code",
   "execution_count": 18,
   "id": "a8a19288",
   "metadata": {},
   "outputs": [
    {
     "data": {
      "text/plain": [
       "0     4\n",
       "1     8\n",
       "2    15\n",
       "3    16\n",
       "4    23\n",
       "5    42\n",
       "dtype: int64"
      ]
     },
     "execution_count": 18,
     "metadata": {},
     "output_type": "execute_result"
    }
   ],
   "source": [
    "data = [4, 8, 15, 16, 23, 42]\n",
    "\n",
    "vec = pd.Series(data)\n",
    "\n",
    "vec"
   ]
  },
  {
   "cell_type": "markdown",
   "id": "0ce2d614",
   "metadata": {},
   "source": [
    "* In the first line, we construct a Python array.\n",
    "\n",
    "* In the second line, we ask Pandas to create a Series from this array.\n",
    "\n",
    "* In the third line, we ask Python to _print out_ this Series.  When you run the cell, it will list the contents of _vec_ just below the cell.\n",
    "\n",
    "We could have also combined the first two lines, as follows:"
   ]
  },
  {
   "cell_type": "code",
   "execution_count": 19,
   "id": "f989f65a",
   "metadata": {},
   "outputs": [
    {
     "data": {
      "text/plain": [
       "0     4\n",
       "1     8\n",
       "2    15\n",
       "3    16\n",
       "4    23\n",
       "5    42\n",
       "dtype: int64"
      ]
     },
     "execution_count": 19,
     "metadata": {},
     "output_type": "execute_result"
    }
   ],
   "source": [
    "vec = pd.Series([4, 8, 15, 16, 23, 42])\n",
    "\n",
    "vec"
   ]
  },
  {
   "cell_type": "markdown",
   "id": "f82ede29",
   "metadata": {},
   "source": [
    "For this simple example, we build an array in Python, then used this to initialize the Series.  In a more realistic example, we would either have programmatically built the vector, or we would have loaded the data from an external file.  We will see examples of this in a few minutes.\n",
    "\n",
    "Just a few notes about the output of that Series:\n",
    "\n",
    "* Each line displays one cell of the Series (one entry in the vector).  The line first displays the index, then it displays the value in the cell.\n",
    "\n",
    "* At the end, Pandas prints the datatype of the values, if all of the cells have the same type of data.  In this case, these are all 64-bit integer values.\n",
    "\n",
    "* If the values are strings, or if the types are objects, arrays, or have mixed type, the datatype listed is 'object'\n",
    "\n",
    "The following examples show these details."
   ]
  },
  {
   "cell_type": "code",
   "execution_count": 20,
   "id": "c6057957",
   "metadata": {},
   "outputs": [
    {
     "data": {
      "text/plain": [
       "0    1.2\n",
       "1    3.7\n",
       "2    7.4\n",
       "dtype: float64"
      ]
     },
     "execution_count": 20,
     "metadata": {},
     "output_type": "execute_result"
    }
   ],
   "source": [
    "pd.Series([1.2, 3.7, 7.4])"
   ]
  },
  {
   "cell_type": "code",
   "execution_count": 21,
   "id": "ec2273cc",
   "metadata": {},
   "outputs": [
    {
     "data": {
      "text/plain": [
       "0     True\n",
       "1    False\n",
       "2    False\n",
       "3     True\n",
       "dtype: bool"
      ]
     },
     "execution_count": 21,
     "metadata": {},
     "output_type": "execute_result"
    }
   ],
   "source": [
    "pd.Series([True, False, False, True])"
   ]
  },
  {
   "cell_type": "code",
   "execution_count": 22,
   "id": "2ca16a31",
   "metadata": {},
   "outputs": [
    {
     "data": {
      "text/plain": [
       "0      one\n",
       "1      two\n",
       "2    three\n",
       "dtype: object"
      ]
     },
     "execution_count": 22,
     "metadata": {},
     "output_type": "execute_result"
    }
   ],
   "source": [
    "pd.Series(['one', 'two', 'three'])"
   ]
  },
  {
   "cell_type": "code",
   "execution_count": 23,
   "id": "0fc64c21",
   "metadata": {},
   "outputs": [
    {
     "data": {
      "text/plain": [
       "0         4\n",
       "1         5\n",
       "2       six\n",
       "3      True\n",
       "4    [2, 3]\n",
       "5         9\n",
       "dtype: object"
      ]
     },
     "execution_count": 23,
     "metadata": {},
     "output_type": "execute_result"
    }
   ],
   "source": [
    "pd.Series([4, 5, 'six', 5 < 8, [2, 3], 9])"
   ]
  },
  {
   "cell_type": "markdown",
   "id": "aea1de1f",
   "metadata": {},
   "source": [
    "## Pandas DataFrame\n",
    "The second basic data structure in Pandas, the one used most often, is _DataFrame_, which represents a tabular arrangement of data, with rows and columns.  You can think of this as a mini-EXCEL spreadsheet, or as a database table.\n",
    "\n",
    "Each column has a name, and all of the _cells_ below it form a Series.\n",
    "\n",
    "Each row has an index, and represents one _entry_ in the table.\n",
    "\n",
    "The first row has an index of 0.  In each of the columns, the cell at index 0 gives the corresponding value for this entry.\n",
    "\n",
    "Enough talking, let's see an example.  In the following cell, we define a Python object, which is a set of key/value pairs.  Each of the keys are in fact the name of a column, and the associated value is an array containing the data to be placed in that column."
   ]
  },
  {
   "cell_type": "code",
   "execution_count": 24,
   "id": "d38490e5",
   "metadata": {},
   "outputs": [],
   "source": [
    "data = {\n",
    "    'Burger': [ 'Big Mac', 'Whopper', 'Double Double', 'The Big Carl', \n",
    "            'Charburger', 'Red\\'s Tavern Double', 'Double Del Cheeseburger'],\n",
    "    'Cost': [3.99, 4.19, 3.45, 5.19, 3.45, 6.99, 6.39],\n",
    "    'Calories': [563, 677, 670, 920, 470, 650, 720]}"
   ]
  },
  {
   "cell_type": "markdown",
   "id": "d32bad68",
   "metadata": {},
   "source": [
    "We can turn this inefficient Python 'table' into an efficient Pandas DataFrame as follows.  "
   ]
  },
  {
   "cell_type": "code",
   "execution_count": 25,
   "id": "43893ffb",
   "metadata": {},
   "outputs": [],
   "source": [
    "burgers = pd.DataFrame(data)"
   ]
  },
  {
   "cell_type": "markdown",
   "id": "50e73795",
   "metadata": {},
   "source": [
    "Now that we have a DataFrame, we can print out the contents by simply listing the Dataframe:"
   ]
  },
  {
   "cell_type": "code",
   "execution_count": 26,
   "id": "6a6e1d3d",
   "metadata": {},
   "outputs": [
    {
     "data": {
      "text/html": [
       "<div>\n",
       "<style scoped>\n",
       "    .dataframe tbody tr th:only-of-type {\n",
       "        vertical-align: middle;\n",
       "    }\n",
       "\n",
       "    .dataframe tbody tr th {\n",
       "        vertical-align: top;\n",
       "    }\n",
       "\n",
       "    .dataframe thead th {\n",
       "        text-align: right;\n",
       "    }\n",
       "</style>\n",
       "<table border=\"1\" class=\"dataframe\">\n",
       "  <thead>\n",
       "    <tr style=\"text-align: right;\">\n",
       "      <th></th>\n",
       "      <th>Burger</th>\n",
       "      <th>Cost</th>\n",
       "      <th>Calories</th>\n",
       "    </tr>\n",
       "  </thead>\n",
       "  <tbody>\n",
       "    <tr>\n",
       "      <th>0</th>\n",
       "      <td>Big Mac</td>\n",
       "      <td>3.99</td>\n",
       "      <td>563</td>\n",
       "    </tr>\n",
       "    <tr>\n",
       "      <th>1</th>\n",
       "      <td>Whopper</td>\n",
       "      <td>4.19</td>\n",
       "      <td>677</td>\n",
       "    </tr>\n",
       "    <tr>\n",
       "      <th>2</th>\n",
       "      <td>Double Double</td>\n",
       "      <td>3.45</td>\n",
       "      <td>670</td>\n",
       "    </tr>\n",
       "    <tr>\n",
       "      <th>3</th>\n",
       "      <td>The Big Carl</td>\n",
       "      <td>5.19</td>\n",
       "      <td>920</td>\n",
       "    </tr>\n",
       "    <tr>\n",
       "      <th>4</th>\n",
       "      <td>Charburger</td>\n",
       "      <td>3.45</td>\n",
       "      <td>470</td>\n",
       "    </tr>\n",
       "    <tr>\n",
       "      <th>5</th>\n",
       "      <td>Red's Tavern Double</td>\n",
       "      <td>6.99</td>\n",
       "      <td>650</td>\n",
       "    </tr>\n",
       "    <tr>\n",
       "      <th>6</th>\n",
       "      <td>Double Del Cheeseburger</td>\n",
       "      <td>6.39</td>\n",
       "      <td>720</td>\n",
       "    </tr>\n",
       "  </tbody>\n",
       "</table>\n",
       "</div>"
      ],
      "text/plain": [
       "                    Burger  Cost  Calories\n",
       "0                  Big Mac  3.99       563\n",
       "1                  Whopper  4.19       677\n",
       "2            Double Double  3.45       670\n",
       "3             The Big Carl  5.19       920\n",
       "4               Charburger  3.45       470\n",
       "5      Red's Tavern Double  6.99       650\n",
       "6  Double Del Cheeseburger  6.39       720"
      ]
     },
     "execution_count": 26,
     "metadata": {},
     "output_type": "execute_result"
    }
   ],
   "source": [
    "burgers"
   ]
  },
  {
   "cell_type": "markdown",
   "id": "5a619803",
   "metadata": {},
   "source": [
    "In this case we are taking all of the columns.  But in other examples, we might have a large data object, but we only want to use portions of it in our code.  So we list the columns of interest.  Pandas will then only take the columns that we indicated.  Notice, by the way, that we can rearrange the columns, and even duplicate the columns!"
   ]
  },
  {
   "cell_type": "code",
   "execution_count": 27,
   "id": "ca0c5bc9",
   "metadata": {},
   "outputs": [
    {
     "data": {
      "text/html": [
       "<div>\n",
       "<style scoped>\n",
       "    .dataframe tbody tr th:only-of-type {\n",
       "        vertical-align: middle;\n",
       "    }\n",
       "\n",
       "    .dataframe tbody tr th {\n",
       "        vertical-align: top;\n",
       "    }\n",
       "\n",
       "    .dataframe thead th {\n",
       "        text-align: right;\n",
       "    }\n",
       "</style>\n",
       "<table border=\"1\" class=\"dataframe\">\n",
       "  <thead>\n",
       "    <tr style=\"text-align: right;\">\n",
       "      <th></th>\n",
       "      <th>Cost</th>\n",
       "      <th>Burger</th>\n",
       "      <th>Calories</th>\n",
       "      <th>Cost</th>\n",
       "    </tr>\n",
       "  </thead>\n",
       "  <tbody>\n",
       "    <tr>\n",
       "      <th>0</th>\n",
       "      <td>3.99</td>\n",
       "      <td>Big Mac</td>\n",
       "      <td>563</td>\n",
       "      <td>3.99</td>\n",
       "    </tr>\n",
       "    <tr>\n",
       "      <th>1</th>\n",
       "      <td>4.19</td>\n",
       "      <td>Whopper</td>\n",
       "      <td>677</td>\n",
       "      <td>4.19</td>\n",
       "    </tr>\n",
       "    <tr>\n",
       "      <th>2</th>\n",
       "      <td>3.45</td>\n",
       "      <td>Double Double</td>\n",
       "      <td>670</td>\n",
       "      <td>3.45</td>\n",
       "    </tr>\n",
       "    <tr>\n",
       "      <th>3</th>\n",
       "      <td>5.19</td>\n",
       "      <td>The Big Carl</td>\n",
       "      <td>920</td>\n",
       "      <td>5.19</td>\n",
       "    </tr>\n",
       "    <tr>\n",
       "      <th>4</th>\n",
       "      <td>3.45</td>\n",
       "      <td>Charburger</td>\n",
       "      <td>470</td>\n",
       "      <td>3.45</td>\n",
       "    </tr>\n",
       "    <tr>\n",
       "      <th>5</th>\n",
       "      <td>6.99</td>\n",
       "      <td>Red's Tavern Double</td>\n",
       "      <td>650</td>\n",
       "      <td>6.99</td>\n",
       "    </tr>\n",
       "    <tr>\n",
       "      <th>6</th>\n",
       "      <td>6.39</td>\n",
       "      <td>Double Del Cheeseburger</td>\n",
       "      <td>720</td>\n",
       "      <td>6.39</td>\n",
       "    </tr>\n",
       "  </tbody>\n",
       "</table>\n",
       "</div>"
      ],
      "text/plain": [
       "   Cost                   Burger  Calories  Cost\n",
       "0  3.99                  Big Mac       563  3.99\n",
       "1  4.19                  Whopper       677  4.19\n",
       "2  3.45            Double Double       670  3.45\n",
       "3  5.19             The Big Carl       920  5.19\n",
       "4  3.45               Charburger       470  3.45\n",
       "5  6.99      Red's Tavern Double       650  6.99\n",
       "6  6.39  Double Del Cheeseburger       720  6.39"
      ]
     },
     "execution_count": 27,
     "metadata": {},
     "output_type": "execute_result"
    }
   ],
   "source": [
    "burgers2 = pd.DataFrame(data, columns = ['Cost', 'Burger', 'Calories', 'Cost'])\n",
    "\n",
    "burgers2"
   ]
  },
  {
   "cell_type": "markdown",
   "id": "13738890",
   "metadata": {},
   "source": [
    "In this example, the table was small, so the whole table was printed.  If the table had many lines, the output would have listed the header of the table, the first few lines, then a line of ellipses (...), then the last few lines.\n",
    "\n",
    "Entering data using the Python object/arrays is very inefficient.  If we were algorithmically generating the data, we would write a program to construct the input data.  However, in most cases, we would read the data into the DataFrame from an external file.  Pandas supports reading data in a variety of formats, but one of the easiest and most common is to use a CSV (_comma-separated-value_) file.  In this file, the first row provides the names of all the columns, and each of the remaining rows gives the values for one entry (row) in the DataFrame.  Commas are used to indicate when to switch to the next column.\n",
    "\n",
    "The following line of code shows how to load the data from a CSV file.  If you have loaded the files from the zip file, then the following cell will be able to find the file and extract the data."
   ]
  },
  {
   "cell_type": "code",
   "execution_count": 28,
   "id": "f13b9bb4",
   "metadata": {},
   "outputs": [],
   "source": [
    "spiderman = pd.read_csv('spiderman.csv')"
   ]
  },
  {
   "cell_type": "markdown",
   "id": "38a1be47",
   "metadata": {},
   "source": [
    "Having loaded the data, we can then print out the contents of the DataFrame:"
   ]
  },
  {
   "cell_type": "code",
   "execution_count": 29,
   "id": "67612098",
   "metadata": {},
   "outputs": [
    {
     "data": {
      "text/html": [
       "<div>\n",
       "<style scoped>\n",
       "    .dataframe tbody tr th:only-of-type {\n",
       "        vertical-align: middle;\n",
       "    }\n",
       "\n",
       "    .dataframe tbody tr th {\n",
       "        vertical-align: top;\n",
       "    }\n",
       "\n",
       "    .dataframe thead th {\n",
       "        text-align: right;\n",
       "    }\n",
       "</style>\n",
       "<table border=\"1\" class=\"dataframe\">\n",
       "  <thead>\n",
       "    <tr style=\"text-align: right;\">\n",
       "      <th></th>\n",
       "      <th>Film</th>\n",
       "      <th>Release Date</th>\n",
       "      <th>Actor</th>\n",
       "      <th>NA Box Office</th>\n",
       "      <th>Other Box Office</th>\n",
       "      <th>Ranking</th>\n",
       "      <th>Budget</th>\n",
       "      <th>Rotten Tomatoes</th>\n",
       "      <th>Metacritic</th>\n",
       "    </tr>\n",
       "  </thead>\n",
       "  <tbody>\n",
       "    <tr>\n",
       "      <th>0</th>\n",
       "      <td>Spider-Man</td>\n",
       "      <td>May 3, 2002</td>\n",
       "      <td>Tobey Maguire</td>\n",
       "      <td>407.02</td>\n",
       "      <td>418.00</td>\n",
       "      <td>35</td>\n",
       "      <td>139</td>\n",
       "      <td>90</td>\n",
       "      <td>73</td>\n",
       "    </tr>\n",
       "    <tr>\n",
       "      <th>1</th>\n",
       "      <td>Spider-Man 2</td>\n",
       "      <td>June 30, 2004</td>\n",
       "      <td>Tobey Maguire</td>\n",
       "      <td>373.59</td>\n",
       "      <td>415.39</td>\n",
       "      <td>46</td>\n",
       "      <td>200</td>\n",
       "      <td>93</td>\n",
       "      <td>83</td>\n",
       "    </tr>\n",
       "    <tr>\n",
       "      <th>2</th>\n",
       "      <td>Spider-Man 3</td>\n",
       "      <td>May 4, 2007</td>\n",
       "      <td>Tobey Maguire</td>\n",
       "      <td>336.53</td>\n",
       "      <td>558.45</td>\n",
       "      <td>60</td>\n",
       "      <td>258</td>\n",
       "      <td>63</td>\n",
       "      <td>59</td>\n",
       "    </tr>\n",
       "    <tr>\n",
       "      <th>3</th>\n",
       "      <td>The Amazing Spider-Man</td>\n",
       "      <td>July 3, 2012</td>\n",
       "      <td>Andrew Garfield</td>\n",
       "      <td>262.03</td>\n",
       "      <td>495.90</td>\n",
       "      <td>115</td>\n",
       "      <td>230</td>\n",
       "      <td>72</td>\n",
       "      <td>66</td>\n",
       "    </tr>\n",
       "    <tr>\n",
       "      <th>4</th>\n",
       "      <td>The Amazing Spider-Man 2</td>\n",
       "      <td>May 2, 2014</td>\n",
       "      <td>Andrew Garfield</td>\n",
       "      <td>202.85</td>\n",
       "      <td>506.13</td>\n",
       "      <td>208</td>\n",
       "      <td>250</td>\n",
       "      <td>52</td>\n",
       "      <td>53</td>\n",
       "    </tr>\n",
       "    <tr>\n",
       "      <th>5</th>\n",
       "      <td>Spider-Man: Homecoming</td>\n",
       "      <td>July 7, 2017</td>\n",
       "      <td>Tom Holland</td>\n",
       "      <td>334.20</td>\n",
       "      <td>545.97</td>\n",
       "      <td>64</td>\n",
       "      <td>175</td>\n",
       "      <td>92</td>\n",
       "      <td>73</td>\n",
       "    </tr>\n",
       "    <tr>\n",
       "      <th>6</th>\n",
       "      <td>Spider-Man: Far From Home</td>\n",
       "      <td>July 2, 2019</td>\n",
       "      <td>Tom Holland</td>\n",
       "      <td>390.53</td>\n",
       "      <td>741.40</td>\n",
       "      <td>40</td>\n",
       "      <td>160</td>\n",
       "      <td>97</td>\n",
       "      <td>87</td>\n",
       "    </tr>\n",
       "    <tr>\n",
       "      <th>7</th>\n",
       "      <td>Spider-Man: No Way Home</td>\n",
       "      <td>December 17, 2021</td>\n",
       "      <td>Tom Holland</td>\n",
       "      <td>814.27</td>\n",
       "      <td>1379.66</td>\n",
       "      <td>3</td>\n",
       "      <td>200</td>\n",
       "      <td>90</td>\n",
       "      <td>69</td>\n",
       "    </tr>\n",
       "    <tr>\n",
       "      <th>8</th>\n",
       "      <td>Spider-Man: Into the Spider-Verse</td>\n",
       "      <td>December 14, 2018</td>\n",
       "      <td>Shameik Moore</td>\n",
       "      <td>190.24</td>\n",
       "      <td>185.30</td>\n",
       "      <td>232</td>\n",
       "      <td>90</td>\n",
       "      <td>93</td>\n",
       "      <td>71</td>\n",
       "    </tr>\n",
       "  </tbody>\n",
       "</table>\n",
       "</div>"
      ],
      "text/plain": [
       "                                Film       Release Date            Actor  \\\n",
       "0                         Spider-Man        May 3, 2002    Tobey Maguire   \n",
       "1                       Spider-Man 2      June 30, 2004    Tobey Maguire   \n",
       "2                       Spider-Man 3        May 4, 2007    Tobey Maguire   \n",
       "3             The Amazing Spider-Man       July 3, 2012  Andrew Garfield   \n",
       "4           The Amazing Spider-Man 2        May 2, 2014  Andrew Garfield   \n",
       "5             Spider-Man: Homecoming       July 7, 2017      Tom Holland   \n",
       "6          Spider-Man: Far From Home       July 2, 2019      Tom Holland   \n",
       "7            Spider-Man: No Way Home  December 17, 2021      Tom Holland   \n",
       "8  Spider-Man: Into the Spider-Verse  December 14, 2018    Shameik Moore   \n",
       "\n",
       "   NA Box Office  Other Box Office  Ranking  Budget  Rotten Tomatoes  \\\n",
       "0         407.02            418.00       35     139               90   \n",
       "1         373.59            415.39       46     200               93   \n",
       "2         336.53            558.45       60     258               63   \n",
       "3         262.03            495.90      115     230               72   \n",
       "4         202.85            506.13      208     250               52   \n",
       "5         334.20            545.97       64     175               92   \n",
       "6         390.53            741.40       40     160               97   \n",
       "7         814.27           1379.66        3     200               90   \n",
       "8         190.24            185.30      232      90               93   \n",
       "\n",
       "   Metacritic  \n",
       "0          73  \n",
       "1          83  \n",
       "2          59  \n",
       "3          66  \n",
       "4          53  \n",
       "5          73  \n",
       "6          87  \n",
       "7          69  \n",
       "8          71  "
      ]
     },
     "execution_count": 29,
     "metadata": {},
     "output_type": "execute_result"
    }
   ],
   "source": [
    "spiderman"
   ]
  },
  {
   "cell_type": "markdown",
   "id": "6d2b5470",
   "metadata": {},
   "source": [
    "As mentioned when loading from a Python object, we can also select which columns of data to load, as follows."
   ]
  },
  {
   "cell_type": "code",
   "execution_count": 30,
   "id": "32a0a54c",
   "metadata": {},
   "outputs": [],
   "source": [
    "spiderman = pd.read_csv('spiderman.csv',\n",
    "                       usecols = ['Film', 'Actor', 'Release Date', 'Ranking', \n",
    "                                  'Rotten Tomatoes', 'Metacritic'])"
   ]
  },
  {
   "cell_type": "markdown",
   "id": "f5e945e6",
   "metadata": {},
   "source": [
    "We can then print this out and see that only the requested columns appear:"
   ]
  },
  {
   "cell_type": "code",
   "execution_count": 31,
   "id": "7df657f2",
   "metadata": {},
   "outputs": [
    {
     "data": {
      "text/html": [
       "<div>\n",
       "<style scoped>\n",
       "    .dataframe tbody tr th:only-of-type {\n",
       "        vertical-align: middle;\n",
       "    }\n",
       "\n",
       "    .dataframe tbody tr th {\n",
       "        vertical-align: top;\n",
       "    }\n",
       "\n",
       "    .dataframe thead th {\n",
       "        text-align: right;\n",
       "    }\n",
       "</style>\n",
       "<table border=\"1\" class=\"dataframe\">\n",
       "  <thead>\n",
       "    <tr style=\"text-align: right;\">\n",
       "      <th></th>\n",
       "      <th>Film</th>\n",
       "      <th>Release Date</th>\n",
       "      <th>Actor</th>\n",
       "      <th>Ranking</th>\n",
       "      <th>Rotten Tomatoes</th>\n",
       "      <th>Metacritic</th>\n",
       "    </tr>\n",
       "  </thead>\n",
       "  <tbody>\n",
       "    <tr>\n",
       "      <th>0</th>\n",
       "      <td>Spider-Man</td>\n",
       "      <td>May 3, 2002</td>\n",
       "      <td>Tobey Maguire</td>\n",
       "      <td>35</td>\n",
       "      <td>90</td>\n",
       "      <td>73</td>\n",
       "    </tr>\n",
       "    <tr>\n",
       "      <th>1</th>\n",
       "      <td>Spider-Man 2</td>\n",
       "      <td>June 30, 2004</td>\n",
       "      <td>Tobey Maguire</td>\n",
       "      <td>46</td>\n",
       "      <td>93</td>\n",
       "      <td>83</td>\n",
       "    </tr>\n",
       "    <tr>\n",
       "      <th>2</th>\n",
       "      <td>Spider-Man 3</td>\n",
       "      <td>May 4, 2007</td>\n",
       "      <td>Tobey Maguire</td>\n",
       "      <td>60</td>\n",
       "      <td>63</td>\n",
       "      <td>59</td>\n",
       "    </tr>\n",
       "    <tr>\n",
       "      <th>3</th>\n",
       "      <td>The Amazing Spider-Man</td>\n",
       "      <td>July 3, 2012</td>\n",
       "      <td>Andrew Garfield</td>\n",
       "      <td>115</td>\n",
       "      <td>72</td>\n",
       "      <td>66</td>\n",
       "    </tr>\n",
       "    <tr>\n",
       "      <th>4</th>\n",
       "      <td>The Amazing Spider-Man 2</td>\n",
       "      <td>May 2, 2014</td>\n",
       "      <td>Andrew Garfield</td>\n",
       "      <td>208</td>\n",
       "      <td>52</td>\n",
       "      <td>53</td>\n",
       "    </tr>\n",
       "    <tr>\n",
       "      <th>5</th>\n",
       "      <td>Spider-Man: Homecoming</td>\n",
       "      <td>July 7, 2017</td>\n",
       "      <td>Tom Holland</td>\n",
       "      <td>64</td>\n",
       "      <td>92</td>\n",
       "      <td>73</td>\n",
       "    </tr>\n",
       "    <tr>\n",
       "      <th>6</th>\n",
       "      <td>Spider-Man: Far From Home</td>\n",
       "      <td>July 2, 2019</td>\n",
       "      <td>Tom Holland</td>\n",
       "      <td>40</td>\n",
       "      <td>97</td>\n",
       "      <td>87</td>\n",
       "    </tr>\n",
       "    <tr>\n",
       "      <th>7</th>\n",
       "      <td>Spider-Man: No Way Home</td>\n",
       "      <td>December 17, 2021</td>\n",
       "      <td>Tom Holland</td>\n",
       "      <td>3</td>\n",
       "      <td>90</td>\n",
       "      <td>69</td>\n",
       "    </tr>\n",
       "    <tr>\n",
       "      <th>8</th>\n",
       "      <td>Spider-Man: Into the Spider-Verse</td>\n",
       "      <td>December 14, 2018</td>\n",
       "      <td>Shameik Moore</td>\n",
       "      <td>232</td>\n",
       "      <td>93</td>\n",
       "      <td>71</td>\n",
       "    </tr>\n",
       "  </tbody>\n",
       "</table>\n",
       "</div>"
      ],
      "text/plain": [
       "                                Film       Release Date            Actor  \\\n",
       "0                         Spider-Man        May 3, 2002    Tobey Maguire   \n",
       "1                       Spider-Man 2      June 30, 2004    Tobey Maguire   \n",
       "2                       Spider-Man 3        May 4, 2007    Tobey Maguire   \n",
       "3             The Amazing Spider-Man       July 3, 2012  Andrew Garfield   \n",
       "4           The Amazing Spider-Man 2        May 2, 2014  Andrew Garfield   \n",
       "5             Spider-Man: Homecoming       July 7, 2017      Tom Holland   \n",
       "6          Spider-Man: Far From Home       July 2, 2019      Tom Holland   \n",
       "7            Spider-Man: No Way Home  December 17, 2021      Tom Holland   \n",
       "8  Spider-Man: Into the Spider-Verse  December 14, 2018    Shameik Moore   \n",
       "\n",
       "   Ranking  Rotten Tomatoes  Metacritic  \n",
       "0       35               90          73  \n",
       "1       46               93          83  \n",
       "2       60               63          59  \n",
       "3      115               72          66  \n",
       "4      208               52          53  \n",
       "5       64               92          73  \n",
       "6       40               97          87  \n",
       "7        3               90          69  \n",
       "8      232               93          71  "
      ]
     },
     "execution_count": 31,
     "metadata": {},
     "output_type": "execute_result"
    }
   ],
   "source": [
    "spiderman"
   ]
  },
  {
   "cell_type": "markdown",
   "id": "fcd87f85",
   "metadata": {},
   "source": [
    "## Examining the Data\n",
    "We can get a quick peek at the contents of the table using the _head_ method.  This will print the header of the table, then list the first five rows of data.  We would typically use this so we can verify that the data loaded correctly, or to see what kind of data is in the DataFrame.\n",
    "\n",
    "In the second example that follows, we can pass a number to the _head_ method.  This overrides the default value of '5', so we can, for example, look at the first three rows of data in the file."
   ]
  },
  {
   "cell_type": "code",
   "execution_count": 32,
   "id": "7d9ab729",
   "metadata": {},
   "outputs": [
    {
     "data": {
      "text/html": [
       "<div>\n",
       "<style scoped>\n",
       "    .dataframe tbody tr th:only-of-type {\n",
       "        vertical-align: middle;\n",
       "    }\n",
       "\n",
       "    .dataframe tbody tr th {\n",
       "        vertical-align: top;\n",
       "    }\n",
       "\n",
       "    .dataframe thead th {\n",
       "        text-align: right;\n",
       "    }\n",
       "</style>\n",
       "<table border=\"1\" class=\"dataframe\">\n",
       "  <thead>\n",
       "    <tr style=\"text-align: right;\">\n",
       "      <th></th>\n",
       "      <th>Film</th>\n",
       "      <th>Release Date</th>\n",
       "      <th>Actor</th>\n",
       "      <th>Ranking</th>\n",
       "      <th>Rotten Tomatoes</th>\n",
       "      <th>Metacritic</th>\n",
       "    </tr>\n",
       "  </thead>\n",
       "  <tbody>\n",
       "    <tr>\n",
       "      <th>0</th>\n",
       "      <td>Spider-Man</td>\n",
       "      <td>May 3, 2002</td>\n",
       "      <td>Tobey Maguire</td>\n",
       "      <td>35</td>\n",
       "      <td>90</td>\n",
       "      <td>73</td>\n",
       "    </tr>\n",
       "    <tr>\n",
       "      <th>1</th>\n",
       "      <td>Spider-Man 2</td>\n",
       "      <td>June 30, 2004</td>\n",
       "      <td>Tobey Maguire</td>\n",
       "      <td>46</td>\n",
       "      <td>93</td>\n",
       "      <td>83</td>\n",
       "    </tr>\n",
       "    <tr>\n",
       "      <th>2</th>\n",
       "      <td>Spider-Man 3</td>\n",
       "      <td>May 4, 2007</td>\n",
       "      <td>Tobey Maguire</td>\n",
       "      <td>60</td>\n",
       "      <td>63</td>\n",
       "      <td>59</td>\n",
       "    </tr>\n",
       "    <tr>\n",
       "      <th>3</th>\n",
       "      <td>The Amazing Spider-Man</td>\n",
       "      <td>July 3, 2012</td>\n",
       "      <td>Andrew Garfield</td>\n",
       "      <td>115</td>\n",
       "      <td>72</td>\n",
       "      <td>66</td>\n",
       "    </tr>\n",
       "    <tr>\n",
       "      <th>4</th>\n",
       "      <td>The Amazing Spider-Man 2</td>\n",
       "      <td>May 2, 2014</td>\n",
       "      <td>Andrew Garfield</td>\n",
       "      <td>208</td>\n",
       "      <td>52</td>\n",
       "      <td>53</td>\n",
       "    </tr>\n",
       "  </tbody>\n",
       "</table>\n",
       "</div>"
      ],
      "text/plain": [
       "                       Film   Release Date            Actor  Ranking  \\\n",
       "0                Spider-Man    May 3, 2002    Tobey Maguire       35   \n",
       "1              Spider-Man 2  June 30, 2004    Tobey Maguire       46   \n",
       "2              Spider-Man 3    May 4, 2007    Tobey Maguire       60   \n",
       "3    The Amazing Spider-Man   July 3, 2012  Andrew Garfield      115   \n",
       "4  The Amazing Spider-Man 2    May 2, 2014  Andrew Garfield      208   \n",
       "\n",
       "   Rotten Tomatoes  Metacritic  \n",
       "0               90          73  \n",
       "1               93          83  \n",
       "2               63          59  \n",
       "3               72          66  \n",
       "4               52          53  "
      ]
     },
     "execution_count": 32,
     "metadata": {},
     "output_type": "execute_result"
    }
   ],
   "source": [
    "spiderman.head()"
   ]
  },
  {
   "cell_type": "code",
   "execution_count": 33,
   "id": "87ef9031",
   "metadata": {},
   "outputs": [
    {
     "data": {
      "text/html": [
       "<div>\n",
       "<style scoped>\n",
       "    .dataframe tbody tr th:only-of-type {\n",
       "        vertical-align: middle;\n",
       "    }\n",
       "\n",
       "    .dataframe tbody tr th {\n",
       "        vertical-align: top;\n",
       "    }\n",
       "\n",
       "    .dataframe thead th {\n",
       "        text-align: right;\n",
       "    }\n",
       "</style>\n",
       "<table border=\"1\" class=\"dataframe\">\n",
       "  <thead>\n",
       "    <tr style=\"text-align: right;\">\n",
       "      <th></th>\n",
       "      <th>Film</th>\n",
       "      <th>Release Date</th>\n",
       "      <th>Actor</th>\n",
       "      <th>Ranking</th>\n",
       "      <th>Rotten Tomatoes</th>\n",
       "      <th>Metacritic</th>\n",
       "    </tr>\n",
       "  </thead>\n",
       "  <tbody>\n",
       "    <tr>\n",
       "      <th>0</th>\n",
       "      <td>Spider-Man</td>\n",
       "      <td>May 3, 2002</td>\n",
       "      <td>Tobey Maguire</td>\n",
       "      <td>35</td>\n",
       "      <td>90</td>\n",
       "      <td>73</td>\n",
       "    </tr>\n",
       "    <tr>\n",
       "      <th>1</th>\n",
       "      <td>Spider-Man 2</td>\n",
       "      <td>June 30, 2004</td>\n",
       "      <td>Tobey Maguire</td>\n",
       "      <td>46</td>\n",
       "      <td>93</td>\n",
       "      <td>83</td>\n",
       "    </tr>\n",
       "    <tr>\n",
       "      <th>2</th>\n",
       "      <td>Spider-Man 3</td>\n",
       "      <td>May 4, 2007</td>\n",
       "      <td>Tobey Maguire</td>\n",
       "      <td>60</td>\n",
       "      <td>63</td>\n",
       "      <td>59</td>\n",
       "    </tr>\n",
       "  </tbody>\n",
       "</table>\n",
       "</div>"
      ],
      "text/plain": [
       "           Film   Release Date          Actor  Ranking  Rotten Tomatoes  \\\n",
       "0    Spider-Man    May 3, 2002  Tobey Maguire       35               90   \n",
       "1  Spider-Man 2  June 30, 2004  Tobey Maguire       46               93   \n",
       "2  Spider-Man 3    May 4, 2007  Tobey Maguire       60               63   \n",
       "\n",
       "   Metacritic  \n",
       "0          73  \n",
       "1          83  \n",
       "2          59  "
      ]
     },
     "execution_count": 33,
     "metadata": {},
     "output_type": "execute_result"
    }
   ],
   "source": [
    "spiderman.head(3)"
   ]
  },
  {
   "cell_type": "markdown",
   "id": "053259f8",
   "metadata": {},
   "source": [
    "There is another method, _tail_, which lists rows at the bottom of the table.  Again, the table header is drawn, but then the last five rows of data are displayed.  You can also pass a number to _tail_ to change the number of rows displayed."
   ]
  },
  {
   "cell_type": "code",
   "execution_count": 34,
   "id": "59f5b721",
   "metadata": {},
   "outputs": [
    {
     "data": {
      "text/html": [
       "<div>\n",
       "<style scoped>\n",
       "    .dataframe tbody tr th:only-of-type {\n",
       "        vertical-align: middle;\n",
       "    }\n",
       "\n",
       "    .dataframe tbody tr th {\n",
       "        vertical-align: top;\n",
       "    }\n",
       "\n",
       "    .dataframe thead th {\n",
       "        text-align: right;\n",
       "    }\n",
       "</style>\n",
       "<table border=\"1\" class=\"dataframe\">\n",
       "  <thead>\n",
       "    <tr style=\"text-align: right;\">\n",
       "      <th></th>\n",
       "      <th>Film</th>\n",
       "      <th>Release Date</th>\n",
       "      <th>Actor</th>\n",
       "      <th>Ranking</th>\n",
       "      <th>Rotten Tomatoes</th>\n",
       "      <th>Metacritic</th>\n",
       "    </tr>\n",
       "  </thead>\n",
       "  <tbody>\n",
       "    <tr>\n",
       "      <th>4</th>\n",
       "      <td>The Amazing Spider-Man 2</td>\n",
       "      <td>May 2, 2014</td>\n",
       "      <td>Andrew Garfield</td>\n",
       "      <td>208</td>\n",
       "      <td>52</td>\n",
       "      <td>53</td>\n",
       "    </tr>\n",
       "    <tr>\n",
       "      <th>5</th>\n",
       "      <td>Spider-Man: Homecoming</td>\n",
       "      <td>July 7, 2017</td>\n",
       "      <td>Tom Holland</td>\n",
       "      <td>64</td>\n",
       "      <td>92</td>\n",
       "      <td>73</td>\n",
       "    </tr>\n",
       "    <tr>\n",
       "      <th>6</th>\n",
       "      <td>Spider-Man: Far From Home</td>\n",
       "      <td>July 2, 2019</td>\n",
       "      <td>Tom Holland</td>\n",
       "      <td>40</td>\n",
       "      <td>97</td>\n",
       "      <td>87</td>\n",
       "    </tr>\n",
       "    <tr>\n",
       "      <th>7</th>\n",
       "      <td>Spider-Man: No Way Home</td>\n",
       "      <td>December 17, 2021</td>\n",
       "      <td>Tom Holland</td>\n",
       "      <td>3</td>\n",
       "      <td>90</td>\n",
       "      <td>69</td>\n",
       "    </tr>\n",
       "    <tr>\n",
       "      <th>8</th>\n",
       "      <td>Spider-Man: Into the Spider-Verse</td>\n",
       "      <td>December 14, 2018</td>\n",
       "      <td>Shameik Moore</td>\n",
       "      <td>232</td>\n",
       "      <td>93</td>\n",
       "      <td>71</td>\n",
       "    </tr>\n",
       "  </tbody>\n",
       "</table>\n",
       "</div>"
      ],
      "text/plain": [
       "                                Film       Release Date            Actor  \\\n",
       "4           The Amazing Spider-Man 2        May 2, 2014  Andrew Garfield   \n",
       "5             Spider-Man: Homecoming       July 7, 2017      Tom Holland   \n",
       "6          Spider-Man: Far From Home       July 2, 2019      Tom Holland   \n",
       "7            Spider-Man: No Way Home  December 17, 2021      Tom Holland   \n",
       "8  Spider-Man: Into the Spider-Verse  December 14, 2018    Shameik Moore   \n",
       "\n",
       "   Ranking  Rotten Tomatoes  Metacritic  \n",
       "4      208               52          53  \n",
       "5       64               92          73  \n",
       "6       40               97          87  \n",
       "7        3               90          69  \n",
       "8      232               93          71  "
      ]
     },
     "execution_count": 34,
     "metadata": {},
     "output_type": "execute_result"
    }
   ],
   "source": [
    "spiderman.tail()"
   ]
  },
  {
   "cell_type": "markdown",
   "id": "f473b5b0",
   "metadata": {},
   "source": [
    "We can ask for just the names of the columns, by accessing the _columns_ attribute.  This contains an _index_ object that has an array of the names, and an indication of the datatype of this array, which will be _object_ (since the entries are strings)."
   ]
  },
  {
   "cell_type": "code",
   "execution_count": 35,
   "id": "3cb6847b",
   "metadata": {},
   "outputs": [
    {
     "data": {
      "text/plain": [
       "Index(['Film', 'Release Date', 'Actor', 'Ranking', 'Rotten Tomatoes',\n",
       "       'Metacritic'],\n",
       "      dtype='object')"
      ]
     },
     "execution_count": 35,
     "metadata": {},
     "output_type": "execute_result"
    }
   ],
   "source": [
    "spiderman.columns"
   ]
  },
  {
   "cell_type": "markdown",
   "id": "1a7eeede",
   "metadata": {},
   "source": [
    "We can also ask for the datatypes for each of the columns, using _dtypes_.  This returns a Series that uses the column names as the indices and the corresponding datatypes as the values.  If a column has mixed types, it lists the type _object_."
   ]
  },
  {
   "cell_type": "code",
   "execution_count": 36,
   "id": "8a2ab947",
   "metadata": {},
   "outputs": [
    {
     "data": {
      "text/plain": [
       "Film               object\n",
       "Release Date       object\n",
       "Actor              object\n",
       "Ranking             int64\n",
       "Rotten Tomatoes     int64\n",
       "Metacritic          int64\n",
       "dtype: object"
      ]
     },
     "execution_count": 36,
     "metadata": {},
     "output_type": "execute_result"
    }
   ],
   "source": [
    "spiderman.dtypes"
   ]
  },
  {
   "cell_type": "markdown",
   "id": "1a8cf905",
   "metadata": {},
   "source": [
    "Going in the other dimension, we can ask for information about the rows.  While the columns have names, the rows simply have an index.  If we access the _index_ attribute, Pandas will print a description of the indices.  In a typical case, there are many rows, and these are sequentially numbered, so in most cases Pandas does not enumerate all of the values, but rather shows the _formula_ for computing the indices."
   ]
  },
  {
   "cell_type": "code",
   "execution_count": 37,
   "id": "2ac4766e",
   "metadata": {},
   "outputs": [
    {
     "data": {
      "text/plain": [
       "RangeIndex(start=0, stop=9, step=1)"
      ]
     },
     "execution_count": 37,
     "metadata": {},
     "output_type": "execute_result"
    }
   ],
   "source": [
    "spiderman.index"
   ]
  },
  {
   "cell_type": "markdown",
   "id": "89d57aaf",
   "metadata": {},
   "source": [
    "The above states that the indices form a single _range_, which starts at 0 and ends _before_ 9, incrementing by 1.  So the indicies run from 0 to 8, inclusive.\n",
    "\n",
    "We can extract a Python array from the DataFrame.  This is not frequently done, but maybe you will be performing computations on this array, and would rather not use the DataFrame object.  Access the _values_ attribute to get the data as an array.\n",
    "\n",
    "The result is actually a 2-dimensional array.  The outer array is the list of rows, and each row is an array of each of the column values for that row."
   ]
  },
  {
   "cell_type": "code",
   "execution_count": 38,
   "id": "3d6fc5ae",
   "metadata": {},
   "outputs": [
    {
     "data": {
      "text/plain": [
       "array([['Spider-Man', 'May 3, 2002', 'Tobey Maguire', 35, 90, 73],\n",
       "       ['Spider-Man 2', 'June 30, 2004', 'Tobey Maguire', 46, 93, 83],\n",
       "       ['Spider-Man 3', 'May 4, 2007', 'Tobey Maguire', 60, 63, 59],\n",
       "       ['The Amazing Spider-Man', 'July 3, 2012', 'Andrew Garfield', 115,\n",
       "        72, 66],\n",
       "       ['The Amazing Spider-Man 2', 'May 2, 2014', 'Andrew Garfield',\n",
       "        208, 52, 53],\n",
       "       ['Spider-Man: Homecoming', 'July 7, 2017', 'Tom Holland', 64, 92,\n",
       "        73],\n",
       "       ['Spider-Man: Far From Home', 'July 2, 2019', 'Tom Holland', 40,\n",
       "        97, 87],\n",
       "       ['Spider-Man: No Way Home', 'December 17, 2021', 'Tom Holland', 3,\n",
       "        90, 69],\n",
       "       ['Spider-Man: Into the Spider-Verse', 'December 14, 2018',\n",
       "        'Shameik Moore', 232, 93, 71]], dtype=object)"
      ]
     },
     "execution_count": 38,
     "metadata": {},
     "output_type": "execute_result"
    }
   ],
   "source": [
    "spiderman.values"
   ]
  },
  {
   "cell_type": "markdown",
   "id": "432a1db1",
   "metadata": {},
   "source": [
    "Another convenient method is _describe_.  This examines all of the columns that contain numeric data, outputing a chart that gives typical summary information for the columns."
   ]
  },
  {
   "cell_type": "code",
   "execution_count": 39,
   "id": "14d20689",
   "metadata": {},
   "outputs": [
    {
     "data": {
      "text/html": [
       "<div>\n",
       "<style scoped>\n",
       "    .dataframe tbody tr th:only-of-type {\n",
       "        vertical-align: middle;\n",
       "    }\n",
       "\n",
       "    .dataframe tbody tr th {\n",
       "        vertical-align: top;\n",
       "    }\n",
       "\n",
       "    .dataframe thead th {\n",
       "        text-align: right;\n",
       "    }\n",
       "</style>\n",
       "<table border=\"1\" class=\"dataframe\">\n",
       "  <thead>\n",
       "    <tr style=\"text-align: right;\">\n",
       "      <th></th>\n",
       "      <th>Ranking</th>\n",
       "      <th>Rotten Tomatoes</th>\n",
       "      <th>Metacritic</th>\n",
       "    </tr>\n",
       "  </thead>\n",
       "  <tbody>\n",
       "    <tr>\n",
       "      <th>count</th>\n",
       "      <td>9.000000</td>\n",
       "      <td>9.000000</td>\n",
       "      <td>9.000000</td>\n",
       "    </tr>\n",
       "    <tr>\n",
       "      <th>mean</th>\n",
       "      <td>89.222222</td>\n",
       "      <td>82.444444</td>\n",
       "      <td>70.444444</td>\n",
       "    </tr>\n",
       "    <tr>\n",
       "      <th>std</th>\n",
       "      <td>80.088666</td>\n",
       "      <td>16.024287</td>\n",
       "      <td>10.619688</td>\n",
       "    </tr>\n",
       "    <tr>\n",
       "      <th>min</th>\n",
       "      <td>3.000000</td>\n",
       "      <td>52.000000</td>\n",
       "      <td>53.000000</td>\n",
       "    </tr>\n",
       "    <tr>\n",
       "      <th>25%</th>\n",
       "      <td>40.000000</td>\n",
       "      <td>72.000000</td>\n",
       "      <td>66.000000</td>\n",
       "    </tr>\n",
       "    <tr>\n",
       "      <th>50%</th>\n",
       "      <td>60.000000</td>\n",
       "      <td>90.000000</td>\n",
       "      <td>71.000000</td>\n",
       "    </tr>\n",
       "    <tr>\n",
       "      <th>75%</th>\n",
       "      <td>115.000000</td>\n",
       "      <td>93.000000</td>\n",
       "      <td>73.000000</td>\n",
       "    </tr>\n",
       "    <tr>\n",
       "      <th>max</th>\n",
       "      <td>232.000000</td>\n",
       "      <td>97.000000</td>\n",
       "      <td>87.000000</td>\n",
       "    </tr>\n",
       "  </tbody>\n",
       "</table>\n",
       "</div>"
      ],
      "text/plain": [
       "          Ranking  Rotten Tomatoes  Metacritic\n",
       "count    9.000000         9.000000    9.000000\n",
       "mean    89.222222        82.444444   70.444444\n",
       "std     80.088666        16.024287   10.619688\n",
       "min      3.000000        52.000000   53.000000\n",
       "25%     40.000000        72.000000   66.000000\n",
       "50%     60.000000        90.000000   71.000000\n",
       "75%    115.000000        93.000000   73.000000\n",
       "max    232.000000        97.000000   87.000000"
      ]
     },
     "execution_count": 39,
     "metadata": {},
     "output_type": "execute_result"
    }
   ],
   "source": [
    "spiderman.describe()"
   ]
  },
  {
   "cell_type": "markdown",
   "id": "ccf8465c",
   "metadata": {},
   "source": [
    "* The _count_ row gives the number of entries in each column.\n",
    "* The _mean_ row gives the average value for each column.\n",
    "* The _std_ row gives the standard deviation for each column (we will talk about _standard deviation_ in a few lectures).\n",
    "* The _min_ row gives the smallest value in each column.\n",
    "* The _max_ row gives the largest value in each column.\n",
    "* The _25%_, _50%_, and _75%_ values list the column entries such that 25% (or 50%, or 75%) of all the entries have that value or less."
   ]
  },
  {
   "cell_type": "markdown",
   "id": "e903bf33",
   "metadata": {},
   "source": [
    "## Modifying the Data\n",
    "One change that can be made to the data is to change the names of the columns.  Perhaps some of the column names are fairly long, or maybe not descriptive.  Maybe you just want to change the name.  Recall that these column names may have come from the CSV file, or other external representation, so up to this point the names are out of your control.\n",
    "\n",
    "However, recall that the _DataFrame_ has a _columns_ attribute, which gives the names of the columns.  You can rename the columns by assigning a new array of strings to the _columns_ attributes!  Note that the size of this array must match the number of columns in the _DataFrame_."
   ]
  },
  {
   "cell_type": "code",
   "execution_count": 40,
   "id": "de4f359b",
   "metadata": {},
   "outputs": [
    {
     "data": {
      "text/html": [
       "<div>\n",
       "<style scoped>\n",
       "    .dataframe tbody tr th:only-of-type {\n",
       "        vertical-align: middle;\n",
       "    }\n",
       "\n",
       "    .dataframe tbody tr th {\n",
       "        vertical-align: top;\n",
       "    }\n",
       "\n",
       "    .dataframe thead th {\n",
       "        text-align: right;\n",
       "    }\n",
       "</style>\n",
       "<table border=\"1\" class=\"dataframe\">\n",
       "  <thead>\n",
       "    <tr style=\"text-align: right;\">\n",
       "      <th></th>\n",
       "      <th>Film</th>\n",
       "      <th>Date</th>\n",
       "      <th>Actor</th>\n",
       "      <th>Rank</th>\n",
       "      <th>Tomatoes</th>\n",
       "      <th>Critic</th>\n",
       "    </tr>\n",
       "  </thead>\n",
       "  <tbody>\n",
       "    <tr>\n",
       "      <th>0</th>\n",
       "      <td>Spider-Man</td>\n",
       "      <td>May 3, 2002</td>\n",
       "      <td>Tobey Maguire</td>\n",
       "      <td>35</td>\n",
       "      <td>90</td>\n",
       "      <td>73</td>\n",
       "    </tr>\n",
       "    <tr>\n",
       "      <th>1</th>\n",
       "      <td>Spider-Man 2</td>\n",
       "      <td>June 30, 2004</td>\n",
       "      <td>Tobey Maguire</td>\n",
       "      <td>46</td>\n",
       "      <td>93</td>\n",
       "      <td>83</td>\n",
       "    </tr>\n",
       "    <tr>\n",
       "      <th>2</th>\n",
       "      <td>Spider-Man 3</td>\n",
       "      <td>May 4, 2007</td>\n",
       "      <td>Tobey Maguire</td>\n",
       "      <td>60</td>\n",
       "      <td>63</td>\n",
       "      <td>59</td>\n",
       "    </tr>\n",
       "    <tr>\n",
       "      <th>3</th>\n",
       "      <td>The Amazing Spider-Man</td>\n",
       "      <td>July 3, 2012</td>\n",
       "      <td>Andrew Garfield</td>\n",
       "      <td>115</td>\n",
       "      <td>72</td>\n",
       "      <td>66</td>\n",
       "    </tr>\n",
       "    <tr>\n",
       "      <th>4</th>\n",
       "      <td>The Amazing Spider-Man 2</td>\n",
       "      <td>May 2, 2014</td>\n",
       "      <td>Andrew Garfield</td>\n",
       "      <td>208</td>\n",
       "      <td>52</td>\n",
       "      <td>53</td>\n",
       "    </tr>\n",
       "    <tr>\n",
       "      <th>5</th>\n",
       "      <td>Spider-Man: Homecoming</td>\n",
       "      <td>July 7, 2017</td>\n",
       "      <td>Tom Holland</td>\n",
       "      <td>64</td>\n",
       "      <td>92</td>\n",
       "      <td>73</td>\n",
       "    </tr>\n",
       "    <tr>\n",
       "      <th>6</th>\n",
       "      <td>Spider-Man: Far From Home</td>\n",
       "      <td>July 2, 2019</td>\n",
       "      <td>Tom Holland</td>\n",
       "      <td>40</td>\n",
       "      <td>97</td>\n",
       "      <td>87</td>\n",
       "    </tr>\n",
       "    <tr>\n",
       "      <th>7</th>\n",
       "      <td>Spider-Man: No Way Home</td>\n",
       "      <td>December 17, 2021</td>\n",
       "      <td>Tom Holland</td>\n",
       "      <td>3</td>\n",
       "      <td>90</td>\n",
       "      <td>69</td>\n",
       "    </tr>\n",
       "    <tr>\n",
       "      <th>8</th>\n",
       "      <td>Spider-Man: Into the Spider-Verse</td>\n",
       "      <td>December 14, 2018</td>\n",
       "      <td>Shameik Moore</td>\n",
       "      <td>232</td>\n",
       "      <td>93</td>\n",
       "      <td>71</td>\n",
       "    </tr>\n",
       "  </tbody>\n",
       "</table>\n",
       "</div>"
      ],
      "text/plain": [
       "                                Film               Date            Actor  \\\n",
       "0                         Spider-Man        May 3, 2002    Tobey Maguire   \n",
       "1                       Spider-Man 2      June 30, 2004    Tobey Maguire   \n",
       "2                       Spider-Man 3        May 4, 2007    Tobey Maguire   \n",
       "3             The Amazing Spider-Man       July 3, 2012  Andrew Garfield   \n",
       "4           The Amazing Spider-Man 2        May 2, 2014  Andrew Garfield   \n",
       "5             Spider-Man: Homecoming       July 7, 2017      Tom Holland   \n",
       "6          Spider-Man: Far From Home       July 2, 2019      Tom Holland   \n",
       "7            Spider-Man: No Way Home  December 17, 2021      Tom Holland   \n",
       "8  Spider-Man: Into the Spider-Verse  December 14, 2018    Shameik Moore   \n",
       "\n",
       "   Rank  Tomatoes  Critic  \n",
       "0    35        90      73  \n",
       "1    46        93      83  \n",
       "2    60        63      59  \n",
       "3   115        72      66  \n",
       "4   208        52      53  \n",
       "5    64        92      73  \n",
       "6    40        97      87  \n",
       "7     3        90      69  \n",
       "8   232        93      71  "
      ]
     },
     "execution_count": 40,
     "metadata": {},
     "output_type": "execute_result"
    }
   ],
   "source": [
    "spiderman.columns= ['Film', 'Date', 'Actor', 'Rank', 'Tomatoes', 'Critic']\n",
    "\n",
    "spiderman"
   ]
  },
  {
   "cell_type": "markdown",
   "id": "e0a4cd92",
   "metadata": {},
   "source": [
    "If we _index_ into the _DataFrame_, passing the name of one of the columns, the return value is a _Series_ that contains the values of that column:"
   ]
  },
  {
   "cell_type": "code",
   "execution_count": 41,
   "id": "ce34b4ec",
   "metadata": {},
   "outputs": [
    {
     "data": {
      "text/plain": [
       "0                           Spider-Man\n",
       "1                         Spider-Man 2\n",
       "2                         Spider-Man 3\n",
       "3               The Amazing Spider-Man\n",
       "4             The Amazing Spider-Man 2\n",
       "5               Spider-Man: Homecoming\n",
       "6            Spider-Man: Far From Home\n",
       "7              Spider-Man: No Way Home\n",
       "8    Spider-Man: Into the Spider-Verse\n",
       "Name: Film, dtype: object"
      ]
     },
     "execution_count": 41,
     "metadata": {},
     "output_type": "execute_result"
    }
   ],
   "source": [
    "spiderman['Film']"
   ]
  },
  {
   "cell_type": "markdown",
   "id": "826de22e",
   "metadata": {},
   "source": [
    "If we _index_ into the _DataFrame_ by giving two index values, separated by a colon (the typical Python method to declare a range of values), the return is a new _DataFrame_ containing only the selected rows.  There are a couple of notes:\n",
    "* The first number gives the first index, inclusive.\n",
    "* The second number gives the final index, exclusive.\n",
    "* Note that the index values for this new _DataFrame_ match the index values from the original _DataFrame_, so they don't necessarily start with 0!"
   ]
  },
  {
   "cell_type": "code",
   "execution_count": 42,
   "id": "6a75f235",
   "metadata": {},
   "outputs": [
    {
     "data": {
      "text/html": [
       "<div>\n",
       "<style scoped>\n",
       "    .dataframe tbody tr th:only-of-type {\n",
       "        vertical-align: middle;\n",
       "    }\n",
       "\n",
       "    .dataframe tbody tr th {\n",
       "        vertical-align: top;\n",
       "    }\n",
       "\n",
       "    .dataframe thead th {\n",
       "        text-align: right;\n",
       "    }\n",
       "</style>\n",
       "<table border=\"1\" class=\"dataframe\">\n",
       "  <thead>\n",
       "    <tr style=\"text-align: right;\">\n",
       "      <th></th>\n",
       "      <th>Film</th>\n",
       "      <th>Date</th>\n",
       "      <th>Actor</th>\n",
       "      <th>Rank</th>\n",
       "      <th>Tomatoes</th>\n",
       "      <th>Critic</th>\n",
       "    </tr>\n",
       "  </thead>\n",
       "  <tbody>\n",
       "    <tr>\n",
       "      <th>3</th>\n",
       "      <td>The Amazing Spider-Man</td>\n",
       "      <td>July 3, 2012</td>\n",
       "      <td>Andrew Garfield</td>\n",
       "      <td>115</td>\n",
       "      <td>72</td>\n",
       "      <td>66</td>\n",
       "    </tr>\n",
       "    <tr>\n",
       "      <th>4</th>\n",
       "      <td>The Amazing Spider-Man 2</td>\n",
       "      <td>May 2, 2014</td>\n",
       "      <td>Andrew Garfield</td>\n",
       "      <td>208</td>\n",
       "      <td>52</td>\n",
       "      <td>53</td>\n",
       "    </tr>\n",
       "  </tbody>\n",
       "</table>\n",
       "</div>"
      ],
      "text/plain": [
       "                       Film          Date            Actor  Rank  Tomatoes  \\\n",
       "3    The Amazing Spider-Man  July 3, 2012  Andrew Garfield   115        72   \n",
       "4  The Amazing Spider-Man 2   May 2, 2014  Andrew Garfield   208        52   \n",
       "\n",
       "   Critic  \n",
       "3      66  \n",
       "4      53  "
      ]
     },
     "execution_count": 42,
     "metadata": {},
     "output_type": "execute_result"
    }
   ],
   "source": [
    "spiderman[3:5]"
   ]
  },
  {
   "cell_type": "markdown",
   "id": "51af1130",
   "metadata": {},
   "source": [
    "## Digression\n",
    "To illustrate the next couple of points, we will move from our Spiderman _DataFrame_, but we will return soon!\n",
    "\n",
    "For some use cases, you might need an array of randomly generated values.  Let's build such an array!\n",
    "\n",
    "The core routine we will use is a method in _numpy_ which builds a 2-dimensional array of random values (you can also build 1-dimensional arrays or 3-dimensional arrays, but that would be a digression of our digression...)"
   ]
  },
  {
   "cell_type": "code",
   "execution_count": 43,
   "id": "c6f95836",
   "metadata": {},
   "outputs": [
    {
     "data": {
      "text/plain": [
       "array([[ 0.28823179,  0.27389566, -0.78924038, -0.55404335,  0.29125697],\n",
       "       [-1.30793468, -0.66425967, -0.49588264,  0.28272147,  0.84464045],\n",
       "       [ 0.36940657, -0.30903206,  0.04946907,  0.35022971, -0.8202714 ],\n",
       "       [ 1.6927837 , -1.14945588, -0.42940336, -1.87575824, -0.35471414]])"
      ]
     },
     "execution_count": 43,
     "metadata": {},
     "output_type": "execute_result"
    }
   ],
   "source": [
    "np.random.randn(4, 5)"
   ]
  },
  {
   "cell_type": "markdown",
   "id": "4c2dcc58",
   "metadata": {},
   "source": [
    "That works fine to get the data for the _DataFrame_.  But maybe we want to provide interesting column names.\n",
    "We could simply provide an array of names.  However, since this is just random data, and we don't have any more descriptive names for the columns, we can just label the columns 'A', 'B', ...\n",
    "* We could give the column names like this: ['A', 'B', 'C', 'D', 'E']\n",
    "* Alternatively, we can use the String _list_ method: list('ABCDE').  That list method makes an array where each entry in the array is a single-character string taken from the input parameter.\n",
    "* If we don't give any column names, Pandas will just name the first column '1', the second column '2', etc."
   ]
  },
  {
   "cell_type": "code",
   "execution_count": 44,
   "id": "d8d5b7a2",
   "metadata": {},
   "outputs": [
    {
     "data": {
      "text/plain": [
       "['A', 'B', 'C', 'D', 'E']"
      ]
     },
     "execution_count": 44,
     "metadata": {},
     "output_type": "execute_result"
    }
   ],
   "source": [
    "list('ABCDE')"
   ]
  },
  {
   "cell_type": "markdown",
   "id": "2ade9bd2",
   "metadata": {},
   "source": [
    "We can also give interesting row 'names', which are the indicies.  \n",
    "\n",
    "If we don't give row names, Pandas will simply sequentially number the rows.\n",
    "\n",
    "For this example, let's create row index values as dates.  Pandas has a function, _date_range_, which will compute an array of index values, given a starting date and the number of indicies to generate:"
   ]
  },
  {
   "cell_type": "code",
   "execution_count": 45,
   "id": "8be6c7e1",
   "metadata": {},
   "outputs": [
    {
     "data": {
      "text/plain": [
       "DatetimeIndex(['2022-09-15', '2022-09-16', '2022-09-17', '2022-09-18',\n",
       "               '2022-09-19', '2022-09-20', '2022-09-21', '2022-09-22',\n",
       "               '2022-09-23', '2022-09-24', '2022-09-25', '2022-09-26'],\n",
       "              dtype='datetime64[ns]', freq='D')"
      ]
     },
     "execution_count": 45,
     "metadata": {},
     "output_type": "execute_result"
    }
   ],
   "source": [
    "dates = pd.date_range('2022-9-15', periods=12)\n",
    "\n",
    "dates"
   ]
  },
  {
   "cell_type": "markdown",
   "id": "d2dc8bdf",
   "metadata": {},
   "source": [
    "Putting this all together, the following creates a new _DataFrame_, based on an array of randomly generated values, and given the _date_ indicies (from the previous cell), and the simple column names:"
   ]
  },
  {
   "cell_type": "code",
   "execution_count": 46,
   "id": "3b39e47b",
   "metadata": {},
   "outputs": [
    {
     "data": {
      "text/html": [
       "<div>\n",
       "<style scoped>\n",
       "    .dataframe tbody tr th:only-of-type {\n",
       "        vertical-align: middle;\n",
       "    }\n",
       "\n",
       "    .dataframe tbody tr th {\n",
       "        vertical-align: top;\n",
       "    }\n",
       "\n",
       "    .dataframe thead th {\n",
       "        text-align: right;\n",
       "    }\n",
       "</style>\n",
       "<table border=\"1\" class=\"dataframe\">\n",
       "  <thead>\n",
       "    <tr style=\"text-align: right;\">\n",
       "      <th></th>\n",
       "      <th>A</th>\n",
       "      <th>B</th>\n",
       "      <th>C</th>\n",
       "      <th>D</th>\n",
       "      <th>E</th>\n",
       "    </tr>\n",
       "  </thead>\n",
       "  <tbody>\n",
       "    <tr>\n",
       "      <th>2022-09-15</th>\n",
       "      <td>-2.476591</td>\n",
       "      <td>-1.360597</td>\n",
       "      <td>0.786757</td>\n",
       "      <td>-0.664064</td>\n",
       "      <td>-0.538548</td>\n",
       "    </tr>\n",
       "    <tr>\n",
       "      <th>2022-09-16</th>\n",
       "      <td>0.191253</td>\n",
       "      <td>-0.448351</td>\n",
       "      <td>-0.752627</td>\n",
       "      <td>-0.434944</td>\n",
       "      <td>-1.064435</td>\n",
       "    </tr>\n",
       "    <tr>\n",
       "      <th>2022-09-17</th>\n",
       "      <td>2.831372</td>\n",
       "      <td>-1.189524</td>\n",
       "      <td>0.858377</td>\n",
       "      <td>1.777711</td>\n",
       "      <td>-0.677857</td>\n",
       "    </tr>\n",
       "    <tr>\n",
       "      <th>2022-09-18</th>\n",
       "      <td>0.739316</td>\n",
       "      <td>0.815183</td>\n",
       "      <td>-1.192188</td>\n",
       "      <td>0.042972</td>\n",
       "      <td>1.639197</td>\n",
       "    </tr>\n",
       "    <tr>\n",
       "      <th>2022-09-19</th>\n",
       "      <td>-0.073076</td>\n",
       "      <td>0.123033</td>\n",
       "      <td>0.914856</td>\n",
       "      <td>-1.557583</td>\n",
       "      <td>0.286880</td>\n",
       "    </tr>\n",
       "    <tr>\n",
       "      <th>2022-09-20</th>\n",
       "      <td>-0.724375</td>\n",
       "      <td>-0.180327</td>\n",
       "      <td>-0.494893</td>\n",
       "      <td>-1.646911</td>\n",
       "      <td>0.761898</td>\n",
       "    </tr>\n",
       "    <tr>\n",
       "      <th>2022-09-21</th>\n",
       "      <td>0.627713</td>\n",
       "      <td>2.584680</td>\n",
       "      <td>0.499273</td>\n",
       "      <td>1.177158</td>\n",
       "      <td>1.935845</td>\n",
       "    </tr>\n",
       "    <tr>\n",
       "      <th>2022-09-22</th>\n",
       "      <td>0.728774</td>\n",
       "      <td>-0.858160</td>\n",
       "      <td>0.004176</td>\n",
       "      <td>0.655858</td>\n",
       "      <td>-0.643614</td>\n",
       "    </tr>\n",
       "    <tr>\n",
       "      <th>2022-09-23</th>\n",
       "      <td>-0.645873</td>\n",
       "      <td>0.721220</td>\n",
       "      <td>-0.124883</td>\n",
       "      <td>-0.432339</td>\n",
       "      <td>-0.631545</td>\n",
       "    </tr>\n",
       "    <tr>\n",
       "      <th>2022-09-24</th>\n",
       "      <td>-1.432190</td>\n",
       "      <td>0.020501</td>\n",
       "      <td>1.127569</td>\n",
       "      <td>-0.227590</td>\n",
       "      <td>0.416605</td>\n",
       "    </tr>\n",
       "    <tr>\n",
       "      <th>2022-09-25</th>\n",
       "      <td>-1.809656</td>\n",
       "      <td>0.442460</td>\n",
       "      <td>-0.073325</td>\n",
       "      <td>0.730259</td>\n",
       "      <td>1.319863</td>\n",
       "    </tr>\n",
       "    <tr>\n",
       "      <th>2022-09-26</th>\n",
       "      <td>-0.164801</td>\n",
       "      <td>0.439266</td>\n",
       "      <td>0.973792</td>\n",
       "      <td>1.550617</td>\n",
       "      <td>0.446161</td>\n",
       "    </tr>\n",
       "  </tbody>\n",
       "</table>\n",
       "</div>"
      ],
      "text/plain": [
       "                   A         B         C         D         E\n",
       "2022-09-15 -2.476591 -1.360597  0.786757 -0.664064 -0.538548\n",
       "2022-09-16  0.191253 -0.448351 -0.752627 -0.434944 -1.064435\n",
       "2022-09-17  2.831372 -1.189524  0.858377  1.777711 -0.677857\n",
       "2022-09-18  0.739316  0.815183 -1.192188  0.042972  1.639197\n",
       "2022-09-19 -0.073076  0.123033  0.914856 -1.557583  0.286880\n",
       "2022-09-20 -0.724375 -0.180327 -0.494893 -1.646911  0.761898\n",
       "2022-09-21  0.627713  2.584680  0.499273  1.177158  1.935845\n",
       "2022-09-22  0.728774 -0.858160  0.004176  0.655858 -0.643614\n",
       "2022-09-23 -0.645873  0.721220 -0.124883 -0.432339 -0.631545\n",
       "2022-09-24 -1.432190  0.020501  1.127569 -0.227590  0.416605\n",
       "2022-09-25 -1.809656  0.442460 -0.073325  0.730259  1.319863\n",
       "2022-09-26 -0.164801  0.439266  0.973792  1.550617  0.446161"
      ]
     },
     "execution_count": 46,
     "metadata": {},
     "output_type": "execute_result"
    }
   ],
   "source": [
    "rnd = pd.DataFrame(np.random.randn(12, 5), index = dates, columns = list('ABCDE'))\n",
    "\n",
    "rnd"
   ]
  },
  {
   "cell_type": "markdown",
   "id": "7b803fa1",
   "metadata": {},
   "source": [
    "As shown previously, we can run the _describe()_ method to get an overview of the data:"
   ]
  },
  {
   "cell_type": "code",
   "execution_count": 47,
   "id": "4662c51c",
   "metadata": {},
   "outputs": [
    {
     "data": {
      "text/html": [
       "<div>\n",
       "<style scoped>\n",
       "    .dataframe tbody tr th:only-of-type {\n",
       "        vertical-align: middle;\n",
       "    }\n",
       "\n",
       "    .dataframe tbody tr th {\n",
       "        vertical-align: top;\n",
       "    }\n",
       "\n",
       "    .dataframe thead th {\n",
       "        text-align: right;\n",
       "    }\n",
       "</style>\n",
       "<table border=\"1\" class=\"dataframe\">\n",
       "  <thead>\n",
       "    <tr style=\"text-align: right;\">\n",
       "      <th></th>\n",
       "      <th>A</th>\n",
       "      <th>B</th>\n",
       "      <th>C</th>\n",
       "      <th>D</th>\n",
       "      <th>E</th>\n",
       "    </tr>\n",
       "  </thead>\n",
       "  <tbody>\n",
       "    <tr>\n",
       "      <th>count</th>\n",
       "      <td>12.000000</td>\n",
       "      <td>12.000000</td>\n",
       "      <td>12.000000</td>\n",
       "      <td>12.000000</td>\n",
       "      <td>12.000000</td>\n",
       "    </tr>\n",
       "    <tr>\n",
       "      <th>mean</th>\n",
       "      <td>-0.184011</td>\n",
       "      <td>0.092449</td>\n",
       "      <td>0.210574</td>\n",
       "      <td>0.080929</td>\n",
       "      <td>0.270871</td>\n",
       "    </tr>\n",
       "    <tr>\n",
       "      <th>std</th>\n",
       "      <td>1.399758</td>\n",
       "      <td>1.061866</td>\n",
       "      <td>0.761774</td>\n",
       "      <td>1.121861</td>\n",
       "      <td>1.001231</td>\n",
       "    </tr>\n",
       "    <tr>\n",
       "      <th>min</th>\n",
       "      <td>-2.476591</td>\n",
       "      <td>-1.360597</td>\n",
       "      <td>-1.192188</td>\n",
       "      <td>-1.646911</td>\n",
       "      <td>-1.064435</td>\n",
       "    </tr>\n",
       "    <tr>\n",
       "      <th>25%</th>\n",
       "      <td>-0.901329</td>\n",
       "      <td>-0.550803</td>\n",
       "      <td>-0.217386</td>\n",
       "      <td>-0.492224</td>\n",
       "      <td>-0.634562</td>\n",
       "    </tr>\n",
       "    <tr>\n",
       "      <th>50%</th>\n",
       "      <td>-0.118939</td>\n",
       "      <td>0.071767</td>\n",
       "      <td>0.251725</td>\n",
       "      <td>-0.092309</td>\n",
       "      <td>0.351742</td>\n",
       "    </tr>\n",
       "    <tr>\n",
       "      <th>75%</th>\n",
       "      <td>0.652978</td>\n",
       "      <td>0.512150</td>\n",
       "      <td>0.872497</td>\n",
       "      <td>0.841984</td>\n",
       "      <td>0.901389</td>\n",
       "    </tr>\n",
       "    <tr>\n",
       "      <th>max</th>\n",
       "      <td>2.831372</td>\n",
       "      <td>2.584680</td>\n",
       "      <td>1.127569</td>\n",
       "      <td>1.777711</td>\n",
       "      <td>1.935845</td>\n",
       "    </tr>\n",
       "  </tbody>\n",
       "</table>\n",
       "</div>"
      ],
      "text/plain": [
       "               A          B          C          D          E\n",
       "count  12.000000  12.000000  12.000000  12.000000  12.000000\n",
       "mean   -0.184011   0.092449   0.210574   0.080929   0.270871\n",
       "std     1.399758   1.061866   0.761774   1.121861   1.001231\n",
       "min    -2.476591  -1.360597  -1.192188  -1.646911  -1.064435\n",
       "25%    -0.901329  -0.550803  -0.217386  -0.492224  -0.634562\n",
       "50%    -0.118939   0.071767   0.251725  -0.092309   0.351742\n",
       "75%     0.652978   0.512150   0.872497   0.841984   0.901389\n",
       "max     2.831372   2.584680   1.127569   1.777711   1.935845"
      ]
     },
     "execution_count": 47,
     "metadata": {},
     "output_type": "execute_result"
    }
   ],
   "source": [
    "rnd.describe()"
   ]
  },
  {
   "cell_type": "markdown",
   "id": "231e8cfd",
   "metadata": {},
   "source": [
    "## Undigression?\n",
    "\n",
    "Back to our Spiderman example.  Previously we showed how to extract a single column from the _DataFrame_, or how to extract a series of rows.  These techniques can be combined to select a _region_ from the _DataFrame_: we list the range of rows, and list the set of columns to keep:"
   ]
  },
  {
   "cell_type": "code",
   "execution_count": 48,
   "id": "5a14ab62",
   "metadata": {},
   "outputs": [
    {
     "data": {
      "text/html": [
       "<div>\n",
       "<style scoped>\n",
       "    .dataframe tbody tr th:only-of-type {\n",
       "        vertical-align: middle;\n",
       "    }\n",
       "\n",
       "    .dataframe tbody tr th {\n",
       "        vertical-align: top;\n",
       "    }\n",
       "\n",
       "    .dataframe thead th {\n",
       "        text-align: right;\n",
       "    }\n",
       "</style>\n",
       "<table border=\"1\" class=\"dataframe\">\n",
       "  <thead>\n",
       "    <tr style=\"text-align: right;\">\n",
       "      <th></th>\n",
       "      <th>Film</th>\n",
       "      <th>Actor</th>\n",
       "    </tr>\n",
       "  </thead>\n",
       "  <tbody>\n",
       "    <tr>\n",
       "      <th>3</th>\n",
       "      <td>The Amazing Spider-Man</td>\n",
       "      <td>Andrew Garfield</td>\n",
       "    </tr>\n",
       "    <tr>\n",
       "      <th>4</th>\n",
       "      <td>The Amazing Spider-Man 2</td>\n",
       "      <td>Andrew Garfield</td>\n",
       "    </tr>\n",
       "    <tr>\n",
       "      <th>5</th>\n",
       "      <td>Spider-Man: Homecoming</td>\n",
       "      <td>Tom Holland</td>\n",
       "    </tr>\n",
       "  </tbody>\n",
       "</table>\n",
       "</div>"
      ],
      "text/plain": [
       "                       Film            Actor\n",
       "3    The Amazing Spider-Man  Andrew Garfield\n",
       "4  The Amazing Spider-Man 2  Andrew Garfield\n",
       "5    Spider-Man: Homecoming      Tom Holland"
      ]
     },
     "execution_count": 48,
     "metadata": {},
     "output_type": "execute_result"
    }
   ],
   "source": [
    "spiderman.loc[3:5, ['Film', 'Actor']]"
   ]
  },
  {
   "cell_type": "markdown",
   "id": "f30b2510",
   "metadata": {},
   "source": [
    "The annoying thing about this?  Note that for the _loc_ function, the upper number in the range is _included_, while in the previous examples it is _excluded_.  Sigh.\n",
    "\n",
    "We can also get the contents of a single cell by giving one specific index and one specific column name:"
   ]
  },
  {
   "cell_type": "code",
   "execution_count": 49,
   "id": "586bd2d0",
   "metadata": {},
   "outputs": [
    {
     "data": {
      "text/plain": [
       "'Andrew Garfield'"
      ]
     },
     "execution_count": 49,
     "metadata": {},
     "output_type": "execute_result"
    }
   ],
   "source": [
    "spiderman.loc[3, 'Actor']"
   ]
  },
  {
   "cell_type": "markdown",
   "id": "6353bdb6",
   "metadata": {},
   "source": [
    "There are two ways to select a cell, using _loc_ and using _at_, as shown below."
   ]
  },
  {
   "cell_type": "code",
   "execution_count": 50,
   "id": "1359d677",
   "metadata": {},
   "outputs": [
    {
     "data": {
      "text/plain": [
       "'Andrew Garfield'"
      ]
     },
     "execution_count": 50,
     "metadata": {},
     "output_type": "execute_result"
    }
   ],
   "source": [
    "spiderman.at[3, 'Actor']"
   ]
  },
  {
   "cell_type": "markdown",
   "id": "0c25643e",
   "metadata": {},
   "source": [
    "## Index by Position\n",
    "In the previous examples, we were indicating specific rows by giving the index 'label' of the row, and indicating specific columns by column name.  One subtle thing: If we create a sub-_DataFrame_, it's rows will have the same indicies as the original table.\n",
    "\n",
    "An alternate way to select is using the _iloc_ method, which always indexes by an integer, and this is always the current order in the specific _DataFrame_.  In the following example, we give a single integer value, so this 'selects' the row with that index.  The return value is a _Series_."
   ]
  },
  {
   "cell_type": "code",
   "execution_count": 51,
   "id": "3e8b5e4e",
   "metadata": {},
   "outputs": [
    {
     "data": {
      "text/plain": [
       "Film         Spider-Man 3\n",
       "Date          May 4, 2007\n",
       "Actor       Tobey Maguire\n",
       "Rank                   60\n",
       "Tomatoes               63\n",
       "Critic                 59\n",
       "Name: 2, dtype: object"
      ]
     },
     "execution_count": 51,
     "metadata": {},
     "output_type": "execute_result"
    }
   ],
   "source": [
    "spiderman.iloc[2]"
   ]
  },
  {
   "cell_type": "markdown",
   "id": "e5bd7576",
   "metadata": {},
   "source": [
    "If we give two values, the first index selects which row, and the second index selects which column in that row.  The return value is the specific cell contents.  As usual, the indicies start at 0."
   ]
  },
  {
   "cell_type": "code",
   "execution_count": 52,
   "id": "04779998",
   "metadata": {},
   "outputs": [
    {
     "data": {
      "text/plain": [
       "'May 4, 2007'"
      ]
     },
     "execution_count": 52,
     "metadata": {},
     "output_type": "execute_result"
    }
   ],
   "source": [
    "spiderman.iloc[2, 1]"
   ]
  },
  {
   "cell_type": "markdown",
   "id": "e6ec1987",
   "metadata": {},
   "source": [
    "A range of values can be given, rather than specific numbers.  In this case, a _DataFrame_ will be returned.  Also note that in this instance, the last or upper values specified are _exclusive_."
   ]
  },
  {
   "cell_type": "code",
   "execution_count": 53,
   "id": "b3ed0452",
   "metadata": {},
   "outputs": [
    {
     "data": {
      "text/html": [
       "<div>\n",
       "<style scoped>\n",
       "    .dataframe tbody tr th:only-of-type {\n",
       "        vertical-align: middle;\n",
       "    }\n",
       "\n",
       "    .dataframe tbody tr th {\n",
       "        vertical-align: top;\n",
       "    }\n",
       "\n",
       "    .dataframe thead th {\n",
       "        text-align: right;\n",
       "    }\n",
       "</style>\n",
       "<table border=\"1\" class=\"dataframe\">\n",
       "  <thead>\n",
       "    <tr style=\"text-align: right;\">\n",
       "      <th></th>\n",
       "      <th>Date</th>\n",
       "      <th>Actor</th>\n",
       "    </tr>\n",
       "  </thead>\n",
       "  <tbody>\n",
       "    <tr>\n",
       "      <th>2</th>\n",
       "      <td>May 4, 2007</td>\n",
       "      <td>Tobey Maguire</td>\n",
       "    </tr>\n",
       "    <tr>\n",
       "      <th>3</th>\n",
       "      <td>July 3, 2012</td>\n",
       "      <td>Andrew Garfield</td>\n",
       "    </tr>\n",
       "  </tbody>\n",
       "</table>\n",
       "</div>"
      ],
      "text/plain": [
       "           Date            Actor\n",
       "2   May 4, 2007    Tobey Maguire\n",
       "3  July 3, 2012  Andrew Garfield"
      ]
     },
     "execution_count": 53,
     "metadata": {},
     "output_type": "execute_result"
    }
   ],
   "source": [
    "spiderman.iloc[2:4, 1:3]"
   ]
  },
  {
   "cell_type": "markdown",
   "id": "0cdf6b5a",
   "metadata": {},
   "source": [
    "As yet another option, an array of values can be passed for either or both of the dimensions.  In this case, the resulting _DataFrame_ will have the indicated set of rows and the indicated set of columns."
   ]
  },
  {
   "cell_type": "code",
   "execution_count": 54,
   "id": "2c279125",
   "metadata": {},
   "outputs": [
    {
     "data": {
      "text/html": [
       "<div>\n",
       "<style scoped>\n",
       "    .dataframe tbody tr th:only-of-type {\n",
       "        vertical-align: middle;\n",
       "    }\n",
       "\n",
       "    .dataframe tbody tr th {\n",
       "        vertical-align: top;\n",
       "    }\n",
       "\n",
       "    .dataframe thead th {\n",
       "        text-align: right;\n",
       "    }\n",
       "</style>\n",
       "<table border=\"1\" class=\"dataframe\">\n",
       "  <thead>\n",
       "    <tr style=\"text-align: right;\">\n",
       "      <th></th>\n",
       "      <th>Film</th>\n",
       "      <th>Actor</th>\n",
       "    </tr>\n",
       "  </thead>\n",
       "  <tbody>\n",
       "    <tr>\n",
       "      <th>1</th>\n",
       "      <td>Spider-Man 2</td>\n",
       "      <td>Tobey Maguire</td>\n",
       "    </tr>\n",
       "    <tr>\n",
       "      <th>3</th>\n",
       "      <td>The Amazing Spider-Man</td>\n",
       "      <td>Andrew Garfield</td>\n",
       "    </tr>\n",
       "    <tr>\n",
       "      <th>5</th>\n",
       "      <td>Spider-Man: Homecoming</td>\n",
       "      <td>Tom Holland</td>\n",
       "    </tr>\n",
       "  </tbody>\n",
       "</table>\n",
       "</div>"
      ],
      "text/plain": [
       "                     Film            Actor\n",
       "1            Spider-Man 2    Tobey Maguire\n",
       "3  The Amazing Spider-Man  Andrew Garfield\n",
       "5  Spider-Man: Homecoming      Tom Holland"
      ]
     },
     "execution_count": 54,
     "metadata": {},
     "output_type": "execute_result"
    }
   ],
   "source": [
    "spiderman.iloc[[1,3,5],[0,2]]"
   ]
  },
  {
   "cell_type": "markdown",
   "id": "d640a246",
   "metadata": {},
   "source": [
    "I did a couple of experiments.  In the following, the row and column numbers were not in increasing order.  The output _DataSet_ had the rows and columns in the order I specified."
   ]
  },
  {
   "cell_type": "code",
   "execution_count": 55,
   "id": "9b1a6593",
   "metadata": {},
   "outputs": [
    {
     "data": {
      "text/html": [
       "<div>\n",
       "<style scoped>\n",
       "    .dataframe tbody tr th:only-of-type {\n",
       "        vertical-align: middle;\n",
       "    }\n",
       "\n",
       "    .dataframe tbody tr th {\n",
       "        vertical-align: top;\n",
       "    }\n",
       "\n",
       "    .dataframe thead th {\n",
       "        text-align: right;\n",
       "    }\n",
       "</style>\n",
       "<table border=\"1\" class=\"dataframe\">\n",
       "  <thead>\n",
       "    <tr style=\"text-align: right;\">\n",
       "      <th></th>\n",
       "      <th>Actor</th>\n",
       "      <th>Film</th>\n",
       "    </tr>\n",
       "  </thead>\n",
       "  <tbody>\n",
       "    <tr>\n",
       "      <th>1</th>\n",
       "      <td>Tobey Maguire</td>\n",
       "      <td>Spider-Man 2</td>\n",
       "    </tr>\n",
       "    <tr>\n",
       "      <th>5</th>\n",
       "      <td>Tom Holland</td>\n",
       "      <td>Spider-Man: Homecoming</td>\n",
       "    </tr>\n",
       "    <tr>\n",
       "      <th>3</th>\n",
       "      <td>Andrew Garfield</td>\n",
       "      <td>The Amazing Spider-Man</td>\n",
       "    </tr>\n",
       "  </tbody>\n",
       "</table>\n",
       "</div>"
      ],
      "text/plain": [
       "             Actor                    Film\n",
       "1    Tobey Maguire            Spider-Man 2\n",
       "5      Tom Holland  Spider-Man: Homecoming\n",
       "3  Andrew Garfield  The Amazing Spider-Man"
      ]
     },
     "execution_count": 55,
     "metadata": {},
     "output_type": "execute_result"
    }
   ],
   "source": [
    "spiderman.iloc[[1,5,3],[2,0]]"
   ]
  },
  {
   "cell_type": "markdown",
   "id": "9986d6d6",
   "metadata": {},
   "source": [
    "This led, of course, to one more experiment: What if one of the index values was repeated?  Answer: It did what I asked, and duplicated the row of data!"
   ]
  },
  {
   "cell_type": "code",
   "execution_count": 56,
   "id": "d295ca61",
   "metadata": {},
   "outputs": [
    {
     "data": {
      "text/html": [
       "<div>\n",
       "<style scoped>\n",
       "    .dataframe tbody tr th:only-of-type {\n",
       "        vertical-align: middle;\n",
       "    }\n",
       "\n",
       "    .dataframe tbody tr th {\n",
       "        vertical-align: top;\n",
       "    }\n",
       "\n",
       "    .dataframe thead th {\n",
       "        text-align: right;\n",
       "    }\n",
       "</style>\n",
       "<table border=\"1\" class=\"dataframe\">\n",
       "  <thead>\n",
       "    <tr style=\"text-align: right;\">\n",
       "      <th></th>\n",
       "      <th>Film</th>\n",
       "      <th>Actor</th>\n",
       "    </tr>\n",
       "  </thead>\n",
       "  <tbody>\n",
       "    <tr>\n",
       "      <th>1</th>\n",
       "      <td>Spider-Man 2</td>\n",
       "      <td>Tobey Maguire</td>\n",
       "    </tr>\n",
       "    <tr>\n",
       "      <th>3</th>\n",
       "      <td>The Amazing Spider-Man</td>\n",
       "      <td>Andrew Garfield</td>\n",
       "    </tr>\n",
       "    <tr>\n",
       "      <th>1</th>\n",
       "      <td>Spider-Man 2</td>\n",
       "      <td>Tobey Maguire</td>\n",
       "    </tr>\n",
       "  </tbody>\n",
       "</table>\n",
       "</div>"
      ],
      "text/plain": [
       "                     Film            Actor\n",
       "1            Spider-Man 2    Tobey Maguire\n",
       "3  The Amazing Spider-Man  Andrew Garfield\n",
       "1            Spider-Man 2    Tobey Maguire"
      ]
     },
     "execution_count": 56,
     "metadata": {},
     "output_type": "execute_result"
    }
   ],
   "source": [
    "spiderman.iloc[[1,3,1],[0,2]]"
   ]
  },
  {
   "cell_type": "markdown",
   "id": "99d8357c",
   "metadata": {},
   "source": [
    "## Boolean Indexing\n",
    "\n",
    "Comparisons can be performed upon a _Series_.  This will create a new boolean _Series_, where each value of the output is the result of performing the comparison upon the corresponding value of the input.  Recall that we can get a _Series_ from the _DataFrame_ by indexing with the name of a column.  So, for example, we can get a boolean _Series_ that indicates which rows of the table have Tobey Maguire as the actor:"
   ]
  },
  {
   "cell_type": "code",
   "execution_count": 57,
   "id": "6b859f93",
   "metadata": {},
   "outputs": [
    {
     "data": {
      "text/plain": [
       "0     True\n",
       "1     True\n",
       "2     True\n",
       "3    False\n",
       "4    False\n",
       "5    False\n",
       "6    False\n",
       "7    False\n",
       "8    False\n",
       "Name: Actor, dtype: bool"
      ]
     },
     "execution_count": 57,
     "metadata": {},
     "output_type": "execute_result"
    }
   ],
   "source": [
    "spiderman['Actor'] == 'Tobey Maguire'"
   ]
  },
  {
   "cell_type": "markdown",
   "id": "f4e1de89",
   "metadata": {},
   "source": [
    "As a more complex example, we can get a vector indicating where 'Tomatoes' has a score of 90 or higher and where 'Critic' has a score of 80 or higher.  Also note in this example that we can select a column by using the dot notation rather than indexing by the column name!  _Note: for this example, the parentheses are required.  Otherwise Python has trouble parsing the expression._"
   ]
  },
  {
   "cell_type": "code",
   "execution_count": 58,
   "id": "aacdac11",
   "metadata": {},
   "outputs": [
    {
     "data": {
      "text/plain": [
       "0    False\n",
       "1     True\n",
       "2    False\n",
       "3    False\n",
       "4    False\n",
       "5    False\n",
       "6     True\n",
       "7    False\n",
       "8    False\n",
       "dtype: bool"
      ]
     },
     "execution_count": 58,
     "metadata": {},
     "output_type": "execute_result"
    }
   ],
   "source": [
    "(spiderman.Tomatoes >= 90) & (spiderman.Critic >= 80)"
   ]
  },
  {
   "cell_type": "markdown",
   "id": "e4eb167a",
   "metadata": {},
   "source": [
    "What is the use of these boolean _Series_?\n",
    "\n",
    "We can use them to index the _DataFrame_.  The result is that we get a new _DataFrame_ which only contains the rows where the expression evaluated to _TRUE_:"
   ]
  },
  {
   "cell_type": "code",
   "execution_count": 59,
   "id": "da56ce31",
   "metadata": {},
   "outputs": [
    {
     "data": {
      "text/html": [
       "<div>\n",
       "<style scoped>\n",
       "    .dataframe tbody tr th:only-of-type {\n",
       "        vertical-align: middle;\n",
       "    }\n",
       "\n",
       "    .dataframe tbody tr th {\n",
       "        vertical-align: top;\n",
       "    }\n",
       "\n",
       "    .dataframe thead th {\n",
       "        text-align: right;\n",
       "    }\n",
       "</style>\n",
       "<table border=\"1\" class=\"dataframe\">\n",
       "  <thead>\n",
       "    <tr style=\"text-align: right;\">\n",
       "      <th></th>\n",
       "      <th>Film</th>\n",
       "      <th>Date</th>\n",
       "      <th>Actor</th>\n",
       "      <th>Rank</th>\n",
       "      <th>Tomatoes</th>\n",
       "      <th>Critic</th>\n",
       "    </tr>\n",
       "  </thead>\n",
       "  <tbody>\n",
       "    <tr>\n",
       "      <th>0</th>\n",
       "      <td>Spider-Man</td>\n",
       "      <td>May 3, 2002</td>\n",
       "      <td>Tobey Maguire</td>\n",
       "      <td>35</td>\n",
       "      <td>90</td>\n",
       "      <td>73</td>\n",
       "    </tr>\n",
       "    <tr>\n",
       "      <th>1</th>\n",
       "      <td>Spider-Man 2</td>\n",
       "      <td>June 30, 2004</td>\n",
       "      <td>Tobey Maguire</td>\n",
       "      <td>46</td>\n",
       "      <td>93</td>\n",
       "      <td>83</td>\n",
       "    </tr>\n",
       "    <tr>\n",
       "      <th>2</th>\n",
       "      <td>Spider-Man 3</td>\n",
       "      <td>May 4, 2007</td>\n",
       "      <td>Tobey Maguire</td>\n",
       "      <td>60</td>\n",
       "      <td>63</td>\n",
       "      <td>59</td>\n",
       "    </tr>\n",
       "  </tbody>\n",
       "</table>\n",
       "</div>"
      ],
      "text/plain": [
       "           Film           Date          Actor  Rank  Tomatoes  Critic\n",
       "0    Spider-Man    May 3, 2002  Tobey Maguire    35        90      73\n",
       "1  Spider-Man 2  June 30, 2004  Tobey Maguire    46        93      83\n",
       "2  Spider-Man 3    May 4, 2007  Tobey Maguire    60        63      59"
      ]
     },
     "execution_count": 59,
     "metadata": {},
     "output_type": "execute_result"
    }
   ],
   "source": [
    "spiderman[spiderman.Actor == 'Tobey Maguire']"
   ]
  },
  {
   "cell_type": "markdown",
   "id": "2cd2e3a6",
   "metadata": {},
   "source": [
    "Another little more complex example:"
   ]
  },
  {
   "cell_type": "code",
   "execution_count": 60,
   "id": "caa385c1",
   "metadata": {},
   "outputs": [
    {
     "data": {
      "text/html": [
       "<div>\n",
       "<style scoped>\n",
       "    .dataframe tbody tr th:only-of-type {\n",
       "        vertical-align: middle;\n",
       "    }\n",
       "\n",
       "    .dataframe tbody tr th {\n",
       "        vertical-align: top;\n",
       "    }\n",
       "\n",
       "    .dataframe thead th {\n",
       "        text-align: right;\n",
       "    }\n",
       "</style>\n",
       "<table border=\"1\" class=\"dataframe\">\n",
       "  <thead>\n",
       "    <tr style=\"text-align: right;\">\n",
       "      <th></th>\n",
       "      <th>Film</th>\n",
       "      <th>Date</th>\n",
       "      <th>Actor</th>\n",
       "      <th>Rank</th>\n",
       "      <th>Tomatoes</th>\n",
       "      <th>Critic</th>\n",
       "    </tr>\n",
       "  </thead>\n",
       "  <tbody>\n",
       "    <tr>\n",
       "      <th>1</th>\n",
       "      <td>Spider-Man 2</td>\n",
       "      <td>June 30, 2004</td>\n",
       "      <td>Tobey Maguire</td>\n",
       "      <td>46</td>\n",
       "      <td>93</td>\n",
       "      <td>83</td>\n",
       "    </tr>\n",
       "    <tr>\n",
       "      <th>6</th>\n",
       "      <td>Spider-Man: Far From Home</td>\n",
       "      <td>July 2, 2019</td>\n",
       "      <td>Tom Holland</td>\n",
       "      <td>40</td>\n",
       "      <td>97</td>\n",
       "      <td>87</td>\n",
       "    </tr>\n",
       "  </tbody>\n",
       "</table>\n",
       "</div>"
      ],
      "text/plain": [
       "                        Film           Date          Actor  Rank  Tomatoes  \\\n",
       "1               Spider-Man 2  June 30, 2004  Tobey Maguire    46        93   \n",
       "6  Spider-Man: Far From Home   July 2, 2019    Tom Holland    40        97   \n",
       "\n",
       "   Critic  \n",
       "1      83  \n",
       "6      87  "
      ]
     },
     "execution_count": 60,
     "metadata": {},
     "output_type": "execute_result"
    }
   ],
   "source": [
    "spiderman[(spiderman['Rank'] < 50) & (spiderman['Critic'] > 80)]"
   ]
  },
  {
   "cell_type": "markdown",
   "id": "ac6b7066",
   "metadata": {},
   "source": [
    "## Adding Columns\n",
    "A new column can be added to a _DataFrame_ simply by selecting a new column and providing an array of data.  The array should have the same length as the number of rows in the _DataFrame_:"
   ]
  },
  {
   "cell_type": "code",
   "execution_count": 61,
   "id": "70537ad8",
   "metadata": {},
   "outputs": [],
   "source": [
    "spiderman['Score'] = [100, 90, 95, 80, 85, 75, 60, 92, 40]"
   ]
  },
  {
   "cell_type": "code",
   "execution_count": 62,
   "id": "909d185d",
   "metadata": {},
   "outputs": [
    {
     "data": {
      "text/html": [
       "<div>\n",
       "<style scoped>\n",
       "    .dataframe tbody tr th:only-of-type {\n",
       "        vertical-align: middle;\n",
       "    }\n",
       "\n",
       "    .dataframe tbody tr th {\n",
       "        vertical-align: top;\n",
       "    }\n",
       "\n",
       "    .dataframe thead th {\n",
       "        text-align: right;\n",
       "    }\n",
       "</style>\n",
       "<table border=\"1\" class=\"dataframe\">\n",
       "  <thead>\n",
       "    <tr style=\"text-align: right;\">\n",
       "      <th></th>\n",
       "      <th>Film</th>\n",
       "      <th>Date</th>\n",
       "      <th>Actor</th>\n",
       "      <th>Rank</th>\n",
       "      <th>Tomatoes</th>\n",
       "      <th>Critic</th>\n",
       "      <th>Score</th>\n",
       "    </tr>\n",
       "  </thead>\n",
       "  <tbody>\n",
       "    <tr>\n",
       "      <th>0</th>\n",
       "      <td>Spider-Man</td>\n",
       "      <td>May 3, 2002</td>\n",
       "      <td>Tobey Maguire</td>\n",
       "      <td>35</td>\n",
       "      <td>90</td>\n",
       "      <td>73</td>\n",
       "      <td>100</td>\n",
       "    </tr>\n",
       "    <tr>\n",
       "      <th>1</th>\n",
       "      <td>Spider-Man 2</td>\n",
       "      <td>June 30, 2004</td>\n",
       "      <td>Tobey Maguire</td>\n",
       "      <td>46</td>\n",
       "      <td>93</td>\n",
       "      <td>83</td>\n",
       "      <td>90</td>\n",
       "    </tr>\n",
       "    <tr>\n",
       "      <th>2</th>\n",
       "      <td>Spider-Man 3</td>\n",
       "      <td>May 4, 2007</td>\n",
       "      <td>Tobey Maguire</td>\n",
       "      <td>60</td>\n",
       "      <td>63</td>\n",
       "      <td>59</td>\n",
       "      <td>95</td>\n",
       "    </tr>\n",
       "    <tr>\n",
       "      <th>3</th>\n",
       "      <td>The Amazing Spider-Man</td>\n",
       "      <td>July 3, 2012</td>\n",
       "      <td>Andrew Garfield</td>\n",
       "      <td>115</td>\n",
       "      <td>72</td>\n",
       "      <td>66</td>\n",
       "      <td>80</td>\n",
       "    </tr>\n",
       "    <tr>\n",
       "      <th>4</th>\n",
       "      <td>The Amazing Spider-Man 2</td>\n",
       "      <td>May 2, 2014</td>\n",
       "      <td>Andrew Garfield</td>\n",
       "      <td>208</td>\n",
       "      <td>52</td>\n",
       "      <td>53</td>\n",
       "      <td>85</td>\n",
       "    </tr>\n",
       "    <tr>\n",
       "      <th>5</th>\n",
       "      <td>Spider-Man: Homecoming</td>\n",
       "      <td>July 7, 2017</td>\n",
       "      <td>Tom Holland</td>\n",
       "      <td>64</td>\n",
       "      <td>92</td>\n",
       "      <td>73</td>\n",
       "      <td>75</td>\n",
       "    </tr>\n",
       "    <tr>\n",
       "      <th>6</th>\n",
       "      <td>Spider-Man: Far From Home</td>\n",
       "      <td>July 2, 2019</td>\n",
       "      <td>Tom Holland</td>\n",
       "      <td>40</td>\n",
       "      <td>97</td>\n",
       "      <td>87</td>\n",
       "      <td>60</td>\n",
       "    </tr>\n",
       "    <tr>\n",
       "      <th>7</th>\n",
       "      <td>Spider-Man: No Way Home</td>\n",
       "      <td>December 17, 2021</td>\n",
       "      <td>Tom Holland</td>\n",
       "      <td>3</td>\n",
       "      <td>90</td>\n",
       "      <td>69</td>\n",
       "      <td>92</td>\n",
       "    </tr>\n",
       "    <tr>\n",
       "      <th>8</th>\n",
       "      <td>Spider-Man: Into the Spider-Verse</td>\n",
       "      <td>December 14, 2018</td>\n",
       "      <td>Shameik Moore</td>\n",
       "      <td>232</td>\n",
       "      <td>93</td>\n",
       "      <td>71</td>\n",
       "      <td>40</td>\n",
       "    </tr>\n",
       "  </tbody>\n",
       "</table>\n",
       "</div>"
      ],
      "text/plain": [
       "                                Film               Date            Actor  \\\n",
       "0                         Spider-Man        May 3, 2002    Tobey Maguire   \n",
       "1                       Spider-Man 2      June 30, 2004    Tobey Maguire   \n",
       "2                       Spider-Man 3        May 4, 2007    Tobey Maguire   \n",
       "3             The Amazing Spider-Man       July 3, 2012  Andrew Garfield   \n",
       "4           The Amazing Spider-Man 2        May 2, 2014  Andrew Garfield   \n",
       "5             Spider-Man: Homecoming       July 7, 2017      Tom Holland   \n",
       "6          Spider-Man: Far From Home       July 2, 2019      Tom Holland   \n",
       "7            Spider-Man: No Way Home  December 17, 2021      Tom Holland   \n",
       "8  Spider-Man: Into the Spider-Verse  December 14, 2018    Shameik Moore   \n",
       "\n",
       "   Rank  Tomatoes  Critic  Score  \n",
       "0    35        90      73    100  \n",
       "1    46        93      83     90  \n",
       "2    60        63      59     95  \n",
       "3   115        72      66     80  \n",
       "4   208        52      53     85  \n",
       "5    64        92      73     75  \n",
       "6    40        97      87     60  \n",
       "7     3        90      69     92  \n",
       "8   232        93      71     40  "
      ]
     },
     "execution_count": 62,
     "metadata": {},
     "output_type": "execute_result"
    }
   ],
   "source": [
    "spiderman"
   ]
  },
  {
   "cell_type": "markdown",
   "id": "17326b17",
   "metadata": {},
   "source": [
    "A _DataFrame_ can be _transposed_, which switches the rows and columns, using the _T_ 'attribute':"
   ]
  },
  {
   "cell_type": "code",
   "execution_count": 63,
   "id": "1c236b2a",
   "metadata": {},
   "outputs": [
    {
     "data": {
      "text/html": [
       "<div>\n",
       "<style scoped>\n",
       "    .dataframe tbody tr th:only-of-type {\n",
       "        vertical-align: middle;\n",
       "    }\n",
       "\n",
       "    .dataframe tbody tr th {\n",
       "        vertical-align: top;\n",
       "    }\n",
       "\n",
       "    .dataframe thead th {\n",
       "        text-align: right;\n",
       "    }\n",
       "</style>\n",
       "<table border=\"1\" class=\"dataframe\">\n",
       "  <thead>\n",
       "    <tr style=\"text-align: right;\">\n",
       "      <th></th>\n",
       "      <th>0</th>\n",
       "      <th>1</th>\n",
       "      <th>2</th>\n",
       "      <th>3</th>\n",
       "      <th>4</th>\n",
       "      <th>5</th>\n",
       "      <th>6</th>\n",
       "      <th>7</th>\n",
       "      <th>8</th>\n",
       "    </tr>\n",
       "  </thead>\n",
       "  <tbody>\n",
       "    <tr>\n",
       "      <th>Film</th>\n",
       "      <td>Spider-Man</td>\n",
       "      <td>Spider-Man 2</td>\n",
       "      <td>Spider-Man 3</td>\n",
       "      <td>The Amazing Spider-Man</td>\n",
       "      <td>The Amazing Spider-Man 2</td>\n",
       "      <td>Spider-Man: Homecoming</td>\n",
       "      <td>Spider-Man: Far From Home</td>\n",
       "      <td>Spider-Man: No Way Home</td>\n",
       "      <td>Spider-Man: Into the Spider-Verse</td>\n",
       "    </tr>\n",
       "    <tr>\n",
       "      <th>Date</th>\n",
       "      <td>May 3, 2002</td>\n",
       "      <td>June 30, 2004</td>\n",
       "      <td>May 4, 2007</td>\n",
       "      <td>July 3, 2012</td>\n",
       "      <td>May 2, 2014</td>\n",
       "      <td>July 7, 2017</td>\n",
       "      <td>July 2, 2019</td>\n",
       "      <td>December 17, 2021</td>\n",
       "      <td>December 14, 2018</td>\n",
       "    </tr>\n",
       "    <tr>\n",
       "      <th>Actor</th>\n",
       "      <td>Tobey Maguire</td>\n",
       "      <td>Tobey Maguire</td>\n",
       "      <td>Tobey Maguire</td>\n",
       "      <td>Andrew Garfield</td>\n",
       "      <td>Andrew Garfield</td>\n",
       "      <td>Tom Holland</td>\n",
       "      <td>Tom Holland</td>\n",
       "      <td>Tom Holland</td>\n",
       "      <td>Shameik Moore</td>\n",
       "    </tr>\n",
       "    <tr>\n",
       "      <th>Rank</th>\n",
       "      <td>35</td>\n",
       "      <td>46</td>\n",
       "      <td>60</td>\n",
       "      <td>115</td>\n",
       "      <td>208</td>\n",
       "      <td>64</td>\n",
       "      <td>40</td>\n",
       "      <td>3</td>\n",
       "      <td>232</td>\n",
       "    </tr>\n",
       "    <tr>\n",
       "      <th>Tomatoes</th>\n",
       "      <td>90</td>\n",
       "      <td>93</td>\n",
       "      <td>63</td>\n",
       "      <td>72</td>\n",
       "      <td>52</td>\n",
       "      <td>92</td>\n",
       "      <td>97</td>\n",
       "      <td>90</td>\n",
       "      <td>93</td>\n",
       "    </tr>\n",
       "    <tr>\n",
       "      <th>Critic</th>\n",
       "      <td>73</td>\n",
       "      <td>83</td>\n",
       "      <td>59</td>\n",
       "      <td>66</td>\n",
       "      <td>53</td>\n",
       "      <td>73</td>\n",
       "      <td>87</td>\n",
       "      <td>69</td>\n",
       "      <td>71</td>\n",
       "    </tr>\n",
       "    <tr>\n",
       "      <th>Score</th>\n",
       "      <td>100</td>\n",
       "      <td>90</td>\n",
       "      <td>95</td>\n",
       "      <td>80</td>\n",
       "      <td>85</td>\n",
       "      <td>75</td>\n",
       "      <td>60</td>\n",
       "      <td>92</td>\n",
       "      <td>40</td>\n",
       "    </tr>\n",
       "  </tbody>\n",
       "</table>\n",
       "</div>"
      ],
      "text/plain": [
       "                      0              1              2                       3  \\\n",
       "Film         Spider-Man   Spider-Man 2   Spider-Man 3  The Amazing Spider-Man   \n",
       "Date        May 3, 2002  June 30, 2004    May 4, 2007            July 3, 2012   \n",
       "Actor     Tobey Maguire  Tobey Maguire  Tobey Maguire         Andrew Garfield   \n",
       "Rank                 35             46             60                     115   \n",
       "Tomatoes             90             93             63                      72   \n",
       "Critic               73             83             59                      66   \n",
       "Score               100             90             95                      80   \n",
       "\n",
       "                                 4                       5  \\\n",
       "Film      The Amazing Spider-Man 2  Spider-Man: Homecoming   \n",
       "Date                   May 2, 2014            July 7, 2017   \n",
       "Actor              Andrew Garfield             Tom Holland   \n",
       "Rank                           208                      64   \n",
       "Tomatoes                        52                      92   \n",
       "Critic                          53                      73   \n",
       "Score                           85                      75   \n",
       "\n",
       "                                  6                        7  \\\n",
       "Film      Spider-Man: Far From Home  Spider-Man: No Way Home   \n",
       "Date                   July 2, 2019        December 17, 2021   \n",
       "Actor                   Tom Holland              Tom Holland   \n",
       "Rank                             40                        3   \n",
       "Tomatoes                         97                       90   \n",
       "Critic                           87                       69   \n",
       "Score                            60                       92   \n",
       "\n",
       "                                          8  \n",
       "Film      Spider-Man: Into the Spider-Verse  \n",
       "Date                      December 14, 2018  \n",
       "Actor                         Shameik Moore  \n",
       "Rank                                    232  \n",
       "Tomatoes                                 93  \n",
       "Critic                                   71  \n",
       "Score                                    40  "
      ]
     },
     "execution_count": 63,
     "metadata": {},
     "output_type": "execute_result"
    }
   ],
   "source": [
    "spiderman.T"
   ]
  },
  {
   "cell_type": "markdown",
   "id": "71fc1a3c",
   "metadata": {},
   "source": [
    "You can add a new row.  You can change the value of one cell.  But we don't usually do this, usually we are just processing the data we have received."
   ]
  },
  {
   "cell_type": "markdown",
   "id": "b87d5a84",
   "metadata": {},
   "source": [
    "## Experiment\n",
    "\n",
    "Make a Jupyter Notebook of your own, load some data, then explore what you can do.\n",
    "\n",
    "In addition to the Spiderman dataset, in 'spiderman.csv', I've also included a dataset covering some James Bond (007) movies, in the file 'jamesbond.csv'.  Load that data file, then experiment!"
   ]
  },
  {
   "cell_type": "code",
   "execution_count": null,
   "id": "bb4b265a",
   "metadata": {},
   "outputs": [],
   "source": []
  }
 ],
 "metadata": {
  "kernelspec": {
   "display_name": "Python 3",
   "language": "python",
   "name": "python3"
  },
  "language_info": {
   "codemirror_mode": {
    "name": "ipython",
    "version": 3
   },
   "file_extension": ".py",
   "mimetype": "text/x-python",
   "name": "python",
   "nbconvert_exporter": "python",
   "pygments_lexer": "ipython3",
   "version": "3.11.0"
  },
  "vscode": {
   "interpreter": {
    "hash": "c261aea317cc0286b3b3261fbba9abdec21eaa57589985bb7a274bf54d6cc0a7"
   }
  }
 },
 "nbformat": 4,
 "nbformat_minor": 5
}
