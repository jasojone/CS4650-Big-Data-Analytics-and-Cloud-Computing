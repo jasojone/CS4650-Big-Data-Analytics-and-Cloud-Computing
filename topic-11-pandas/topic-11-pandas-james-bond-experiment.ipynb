{
 "cells": [
  {
   "cell_type": "code",
   "execution_count": null,
   "metadata": {},
   "outputs": [],
   "source": []
  },
  {
   "attachments": {},
   "cell_type": "markdown",
   "metadata": {},
   "source": [
    "## Experiment\n",
    "\n",
    "Make a Jupyter Notebook of your own, load some data, then explore what you can do.\n",
    "\n",
    "In addition to the Spiderman dataset, in 'spiderman.csv', I've also included a dataset covering some James Bond (007) movies, in the file 'jamesbond.csv'.  Load that data file, then experiment!"
   ]
  },
  {
   "cell_type": "code",
   "execution_count": null,
   "metadata": {},
   "outputs": [],
   "source": []
  }
 ],
 "metadata": {
  "kernelspec": {
   "display_name": "Python 3",
   "language": "python",
   "name": "python3"
  },
  "language_info": {
   "name": "python",
   "version": "3.11.0"
  },
  "orig_nbformat": 4
 },
 "nbformat": 4,
 "nbformat_minor": 2
}
