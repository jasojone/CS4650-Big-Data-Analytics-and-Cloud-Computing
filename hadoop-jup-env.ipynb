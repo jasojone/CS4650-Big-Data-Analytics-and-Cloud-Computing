{
 "cells": [
  {
   "cell_type": "code",
   "execution_count": 2,
   "metadata": {},
   "outputs": [
    {
     "name": "stderr",
     "output_type": "stream",
     "text": [
      "'conda' is not recognized as an internal or external command,\n",
      "operable program or batch file.\n"
     ]
    }
   ],
   "source": [
    "\n"
   ]
  },
  {
   "attachments": {},
   "cell_type": "markdown",
   "metadata": {},
   "source": [
    "# Create a new environment\n",
    "conda create --name myenv\n",
    "\n",
    "# Activate the environment\n",
    "conda activate myenv\n",
    "\n",
    "# Install packages\n",
    "conda install <package_name>\n",
    "\n",
    "# Install packages from a specific channel\n",
    "conda install -c <channel_name> <package_name>\n",
    "\n",
    "# Create a kernel for your environment\n",
    "python -m ipykernel install --user --name myenv --display-name \"My Environment\"\n",
    "\n",
    "# Launch Jupyter notebook\n",
    "jupyter notebook"
   ]
  },
  {
   "cell_type": "code",
   "execution_count": null,
   "metadata": {},
   "outputs": [],
   "source": [
    "# Step 1: Install Anaconda or Miniconda\n",
    "# If you don't have either installed, you can download and install either from the Anaconda website or the Miniconda website.\n",
    "\n",
    "# Step 2: Create a New Environment\n",
    "# Open a terminal or Anaconda Prompt and run the following command to create a new environment:\n",
    "conda create --name myenv\n",
    "# Replace \"myenv\" with the name you want to give your new environment.\n",
    "\n",
    "# Step 3: Activate the Environment\n",
    "# Run the following command to activate your new environment:\n",
    "conda activate myenv\n",
    "# Replace \"myenv\" with the name of your environment.\n",
    "\n",
    "# Step 4: Install Packages\n",
    "# Run the following command to install packages in your environment:\n",
    "conda install <package_name>\n",
    "# Replace \"<package_name>\" with the name of the package you want to install.\n",
    "\n",
    "# Step 5: Install Packages from a Specific Channel\n",
    "# If you need to install a package from a specific channel (e.g., conda-forge), you can use the following command:\n",
    "conda install -c <channel_name> <package_name>\n",
    "# Replace \"<channel_name>\" with the name of the channel you want to use and \"<package_name>\" with the name of the package you want to install.\n",
    "\n",
    "# Step 6: Create a Kernel for Your Environment\n",
    "# Run the following command to create a kernel for your new environment:\n",
    "python -m ipykernel install --user --name myenv --display-name \"My Environment\"\n",
    "# Replace \"myenv\" with the name of your environment and \"My Environment\" with the display name you want to give your kernel.\n",
    "\n",
    "# Step 7: Launch Jupyter Notebook\n",
    "# Run the following command to launch Jupyter Notebook:\n",
    "jupyter notebook\n",
    "# Once Jupyter Notebook is running, you can select \"My Environment\" from the kernel dropdown menu to use the packages in your new environment.\n",
    "\n",
    "# Using MrJob\n",
    "# To use MrJob, you can install it in your new environment using the following command:\n",
    "conda install mrjob\n",
    "# Once installed, you should be able to import it into your Jupyter notebooks and use it as needed.\n",
    "\n",
    "# That's it! You now have a separate environment to host your Jupyter notebooks and data files, with all the packages and dependencies you need.\n"
   ]
  }
 ],
 "metadata": {
  "kernelspec": {
   "display_name": "Python 3",
   "language": "python",
   "name": "python3"
  },
  "language_info": {
   "codemirror_mode": {
    "name": "ipython",
    "version": 3
   },
   "file_extension": ".py",
   "mimetype": "text/x-python",
   "name": "python",
   "nbconvert_exporter": "python",
   "pygments_lexer": "ipython3",
   "version": "3.9.13"
  },
  "orig_nbformat": 4
 },
 "nbformat": 4,
 "nbformat_minor": 2
}
